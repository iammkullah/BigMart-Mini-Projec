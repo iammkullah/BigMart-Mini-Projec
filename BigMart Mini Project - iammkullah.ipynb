{
 "cells": [
  {
   "cell_type": "markdown",
   "id": "08e8fecd",
   "metadata": {},
   "source": [
    "# BigMart Mini Project\n",
    "## Project Description\n",
    "The data scientists at BigMart have collected 2013 sales data for 1559 products across 10 stores in different cities. Also, certain attributes of each product and store have been defined. The aim of this data science project is to build a predictive model and find out the sales of each product at a particular store.\n",
    "\n",
    "Using this model, BigMart will try to understand the properties of products and stores which play a key role in increasing sales.\n",
    " \n",
    "The data has missing values as some stores do not report all the data due to technical glitches. Hence, it will be required to treat them accordingly."
   ]
  },
  {
   "cell_type": "markdown",
   "id": "f9ab4621",
   "metadata": {},
   "source": [
    "We will handle this problem in a structured way. We will be following the table of content given below.\n",
    "## Table of Content\n",
    "1. Problem Statement\n",
    "2. Hypothesis Generation\n",
    "3. Loading Packages and Data\n",
    "4. Data Structure and Content\n",
    "5. Exploratory Data Analysis\n",
    "6. Univariate Analysis\n",
    "7. Bivariate Analysis\n",
    "8. Missing Value Treatment\n",
    "9. Feature Engineering\n",
    "10. Encoding Categorical Variables\n",
    "11. Label Encoding\n",
    "12. One Hot Encoding\n",
    "13. PreProcessing Data\n",
    "14. Modeling\n",
    "15. Linear Regression\n",
    "16. Regularized Linear Regression\n",
    "17. RandomForest\n",
    "18. XGBoost\n",
    "19. Summary\n",
    "\n",
    "Following is the link to explore the information related to each topic specifically.\n",
    "\n",
    "https://shahyaseen71.gitbook.io/technocolabs-mini-project/your-task"
   ]
  },
  {
   "cell_type": "markdown",
   "id": "acabaebe",
   "metadata": {},
   "source": [
    "## The Business Problem Exploring\n",
    "The aim of this data science project is to build a predictive model and find out the sales of each product at a particular store."
   ]
  },
  {
   "cell_type": "markdown",
   "id": "372841fd",
   "metadata": {},
   "source": [
    "## The Dataset \n",
    "Extracting the BigMart Data set"
   ]
  },
  {
   "cell_type": "code",
   "execution_count": 3,
   "id": "75ce0657",
   "metadata": {},
   "outputs": [
    {
     "name": "stdout",
     "output_type": "stream",
     "text": [
      "File Name                                             Modified             Size\n",
      "Test.csv                                       2019-09-26 10:11:34       527709\n",
      "Train.csv                                      2019-09-26 10:11:34       869537\n",
      "Extracting all the files now...\n",
      "Done!\n"
     ]
    }
   ],
   "source": [
    "# importing required modules\n",
    "from zipfile import ZipFile\n",
    "  \n",
    "# specifying the zip file name\n",
    "file_name = \"9961_14084_bundle_archive.zip\"\n",
    "  \n",
    "# opening the zip file in READ mode\n",
    "with ZipFile(file_name, 'r') as zip:\n",
    "    # printing all the contents of the zip file\n",
    "    zip.printdir()\n",
    "  \n",
    "    # extracting all the files\n",
    "    print('Extracting all the files now...')\n",
    "    zip.extractall()\n",
    "    print('Done!')\n"
   ]
  },
  {
   "cell_type": "code",
   "execution_count": 4,
   "id": "8f163cb4",
   "metadata": {},
   "outputs": [],
   "source": [
    "import pandas as pd\n",
    "\n",
    "# Reading data set using pandas\n",
    "bigMart_data = pd.read_csv('Train.csv')"
   ]
  },
  {
   "cell_type": "code",
   "execution_count": 5,
   "id": "2d531a06",
   "metadata": {},
   "outputs": [
    {
     "data": {
      "text/html": [
       "<div>\n",
       "<style scoped>\n",
       "    .dataframe tbody tr th:only-of-type {\n",
       "        vertical-align: middle;\n",
       "    }\n",
       "\n",
       "    .dataframe tbody tr th {\n",
       "        vertical-align: top;\n",
       "    }\n",
       "\n",
       "    .dataframe thead th {\n",
       "        text-align: right;\n",
       "    }\n",
       "</style>\n",
       "<table border=\"1\" class=\"dataframe\">\n",
       "  <thead>\n",
       "    <tr style=\"text-align: right;\">\n",
       "      <th></th>\n",
       "      <th>Item_Identifier</th>\n",
       "      <th>Item_Weight</th>\n",
       "      <th>Item_Fat_Content</th>\n",
       "      <th>Item_Visibility</th>\n",
       "      <th>Item_Type</th>\n",
       "      <th>Item_MRP</th>\n",
       "      <th>Outlet_Identifier</th>\n",
       "      <th>Outlet_Establishment_Year</th>\n",
       "      <th>Outlet_Size</th>\n",
       "      <th>Outlet_Location_Type</th>\n",
       "      <th>Outlet_Type</th>\n",
       "      <th>Item_Outlet_Sales</th>\n",
       "    </tr>\n",
       "  </thead>\n",
       "  <tbody>\n",
       "    <tr>\n",
       "      <th>0</th>\n",
       "      <td>FDA15</td>\n",
       "      <td>9.300</td>\n",
       "      <td>Low Fat</td>\n",
       "      <td>0.016047</td>\n",
       "      <td>Dairy</td>\n",
       "      <td>249.8092</td>\n",
       "      <td>OUT049</td>\n",
       "      <td>1999</td>\n",
       "      <td>Medium</td>\n",
       "      <td>Tier 1</td>\n",
       "      <td>Supermarket Type1</td>\n",
       "      <td>3735.1380</td>\n",
       "    </tr>\n",
       "    <tr>\n",
       "      <th>1</th>\n",
       "      <td>DRC01</td>\n",
       "      <td>5.920</td>\n",
       "      <td>Regular</td>\n",
       "      <td>0.019278</td>\n",
       "      <td>Soft Drinks</td>\n",
       "      <td>48.2692</td>\n",
       "      <td>OUT018</td>\n",
       "      <td>2009</td>\n",
       "      <td>Medium</td>\n",
       "      <td>Tier 3</td>\n",
       "      <td>Supermarket Type2</td>\n",
       "      <td>443.4228</td>\n",
       "    </tr>\n",
       "    <tr>\n",
       "      <th>2</th>\n",
       "      <td>FDN15</td>\n",
       "      <td>17.500</td>\n",
       "      <td>Low Fat</td>\n",
       "      <td>0.016760</td>\n",
       "      <td>Meat</td>\n",
       "      <td>141.6180</td>\n",
       "      <td>OUT049</td>\n",
       "      <td>1999</td>\n",
       "      <td>Medium</td>\n",
       "      <td>Tier 1</td>\n",
       "      <td>Supermarket Type1</td>\n",
       "      <td>2097.2700</td>\n",
       "    </tr>\n",
       "    <tr>\n",
       "      <th>3</th>\n",
       "      <td>FDX07</td>\n",
       "      <td>19.200</td>\n",
       "      <td>Regular</td>\n",
       "      <td>0.000000</td>\n",
       "      <td>Fruits and Vegetables</td>\n",
       "      <td>182.0950</td>\n",
       "      <td>OUT010</td>\n",
       "      <td>1998</td>\n",
       "      <td>NaN</td>\n",
       "      <td>Tier 3</td>\n",
       "      <td>Grocery Store</td>\n",
       "      <td>732.3800</td>\n",
       "    </tr>\n",
       "    <tr>\n",
       "      <th>4</th>\n",
       "      <td>NCD19</td>\n",
       "      <td>8.930</td>\n",
       "      <td>Low Fat</td>\n",
       "      <td>0.000000</td>\n",
       "      <td>Household</td>\n",
       "      <td>53.8614</td>\n",
       "      <td>OUT013</td>\n",
       "      <td>1987</td>\n",
       "      <td>High</td>\n",
       "      <td>Tier 3</td>\n",
       "      <td>Supermarket Type1</td>\n",
       "      <td>994.7052</td>\n",
       "    </tr>\n",
       "    <tr>\n",
       "      <th>...</th>\n",
       "      <td>...</td>\n",
       "      <td>...</td>\n",
       "      <td>...</td>\n",
       "      <td>...</td>\n",
       "      <td>...</td>\n",
       "      <td>...</td>\n",
       "      <td>...</td>\n",
       "      <td>...</td>\n",
       "      <td>...</td>\n",
       "      <td>...</td>\n",
       "      <td>...</td>\n",
       "      <td>...</td>\n",
       "    </tr>\n",
       "    <tr>\n",
       "      <th>8518</th>\n",
       "      <td>FDF22</td>\n",
       "      <td>6.865</td>\n",
       "      <td>Low Fat</td>\n",
       "      <td>0.056783</td>\n",
       "      <td>Snack Foods</td>\n",
       "      <td>214.5218</td>\n",
       "      <td>OUT013</td>\n",
       "      <td>1987</td>\n",
       "      <td>High</td>\n",
       "      <td>Tier 3</td>\n",
       "      <td>Supermarket Type1</td>\n",
       "      <td>2778.3834</td>\n",
       "    </tr>\n",
       "    <tr>\n",
       "      <th>8519</th>\n",
       "      <td>FDS36</td>\n",
       "      <td>8.380</td>\n",
       "      <td>Regular</td>\n",
       "      <td>0.046982</td>\n",
       "      <td>Baking Goods</td>\n",
       "      <td>108.1570</td>\n",
       "      <td>OUT045</td>\n",
       "      <td>2002</td>\n",
       "      <td>NaN</td>\n",
       "      <td>Tier 2</td>\n",
       "      <td>Supermarket Type1</td>\n",
       "      <td>549.2850</td>\n",
       "    </tr>\n",
       "    <tr>\n",
       "      <th>8520</th>\n",
       "      <td>NCJ29</td>\n",
       "      <td>10.600</td>\n",
       "      <td>Low Fat</td>\n",
       "      <td>0.035186</td>\n",
       "      <td>Health and Hygiene</td>\n",
       "      <td>85.1224</td>\n",
       "      <td>OUT035</td>\n",
       "      <td>2004</td>\n",
       "      <td>Small</td>\n",
       "      <td>Tier 2</td>\n",
       "      <td>Supermarket Type1</td>\n",
       "      <td>1193.1136</td>\n",
       "    </tr>\n",
       "    <tr>\n",
       "      <th>8521</th>\n",
       "      <td>FDN46</td>\n",
       "      <td>7.210</td>\n",
       "      <td>Regular</td>\n",
       "      <td>0.145221</td>\n",
       "      <td>Snack Foods</td>\n",
       "      <td>103.1332</td>\n",
       "      <td>OUT018</td>\n",
       "      <td>2009</td>\n",
       "      <td>Medium</td>\n",
       "      <td>Tier 3</td>\n",
       "      <td>Supermarket Type2</td>\n",
       "      <td>1845.5976</td>\n",
       "    </tr>\n",
       "    <tr>\n",
       "      <th>8522</th>\n",
       "      <td>DRG01</td>\n",
       "      <td>14.800</td>\n",
       "      <td>Low Fat</td>\n",
       "      <td>0.044878</td>\n",
       "      <td>Soft Drinks</td>\n",
       "      <td>75.4670</td>\n",
       "      <td>OUT046</td>\n",
       "      <td>1997</td>\n",
       "      <td>Small</td>\n",
       "      <td>Tier 1</td>\n",
       "      <td>Supermarket Type1</td>\n",
       "      <td>765.6700</td>\n",
       "    </tr>\n",
       "  </tbody>\n",
       "</table>\n",
       "<p>8523 rows × 12 columns</p>\n",
       "</div>"
      ],
      "text/plain": [
       "     Item_Identifier  Item_Weight Item_Fat_Content  Item_Visibility  \\\n",
       "0              FDA15        9.300          Low Fat         0.016047   \n",
       "1              DRC01        5.920          Regular         0.019278   \n",
       "2              FDN15       17.500          Low Fat         0.016760   \n",
       "3              FDX07       19.200          Regular         0.000000   \n",
       "4              NCD19        8.930          Low Fat         0.000000   \n",
       "...              ...          ...              ...              ...   \n",
       "8518           FDF22        6.865          Low Fat         0.056783   \n",
       "8519           FDS36        8.380          Regular         0.046982   \n",
       "8520           NCJ29       10.600          Low Fat         0.035186   \n",
       "8521           FDN46        7.210          Regular         0.145221   \n",
       "8522           DRG01       14.800          Low Fat         0.044878   \n",
       "\n",
       "                  Item_Type  Item_MRP Outlet_Identifier  \\\n",
       "0                     Dairy  249.8092            OUT049   \n",
       "1               Soft Drinks   48.2692            OUT018   \n",
       "2                      Meat  141.6180            OUT049   \n",
       "3     Fruits and Vegetables  182.0950            OUT010   \n",
       "4                 Household   53.8614            OUT013   \n",
       "...                     ...       ...               ...   \n",
       "8518            Snack Foods  214.5218            OUT013   \n",
       "8519           Baking Goods  108.1570            OUT045   \n",
       "8520     Health and Hygiene   85.1224            OUT035   \n",
       "8521            Snack Foods  103.1332            OUT018   \n",
       "8522            Soft Drinks   75.4670            OUT046   \n",
       "\n",
       "      Outlet_Establishment_Year Outlet_Size Outlet_Location_Type  \\\n",
       "0                          1999      Medium               Tier 1   \n",
       "1                          2009      Medium               Tier 3   \n",
       "2                          1999      Medium               Tier 1   \n",
       "3                          1998         NaN               Tier 3   \n",
       "4                          1987        High               Tier 3   \n",
       "...                         ...         ...                  ...   \n",
       "8518                       1987        High               Tier 3   \n",
       "8519                       2002         NaN               Tier 2   \n",
       "8520                       2004       Small               Tier 2   \n",
       "8521                       2009      Medium               Tier 3   \n",
       "8522                       1997       Small               Tier 1   \n",
       "\n",
       "            Outlet_Type  Item_Outlet_Sales  \n",
       "0     Supermarket Type1          3735.1380  \n",
       "1     Supermarket Type2           443.4228  \n",
       "2     Supermarket Type1          2097.2700  \n",
       "3         Grocery Store           732.3800  \n",
       "4     Supermarket Type1           994.7052  \n",
       "...                 ...                ...  \n",
       "8518  Supermarket Type1          2778.3834  \n",
       "8519  Supermarket Type1           549.2850  \n",
       "8520  Supermarket Type1          1193.1136  \n",
       "8521  Supermarket Type2          1845.5976  \n",
       "8522  Supermarket Type1           765.6700  \n",
       "\n",
       "[8523 rows x 12 columns]"
      ]
     },
     "execution_count": 5,
     "metadata": {},
     "output_type": "execute_result"
    }
   ],
   "source": [
    "bigMart_data"
   ]
  },
  {
   "cell_type": "markdown",
   "id": "d7ceb05b",
   "metadata": {},
   "source": [
    "Importing Important libraries which we will use further in the project"
   ]
  },
  {
   "cell_type": "code",
   "execution_count": 6,
   "id": "9d5a83fe",
   "metadata": {},
   "outputs": [],
   "source": [
    "import numpy as np\n",
    "import matplotlib.pyplot as plt\n",
    "import seaborn as sns\n",
    "%matplotlib inline"
   ]
  },
  {
   "cell_type": "markdown",
   "id": "6fa9ef5b",
   "metadata": {},
   "source": [
    "## Exploratory Data Analysis (eda) - Outliers"
   ]
  },
  {
   "cell_type": "markdown",
   "id": "96f59b06",
   "metadata": {},
   "source": [
    "The head function will tell you the top records in the data set. By default, python shows you only the top 5 records."
   ]
  },
  {
   "cell_type": "code",
   "execution_count": 7,
   "id": "70332750",
   "metadata": {},
   "outputs": [
    {
     "data": {
      "text/html": [
       "<div>\n",
       "<style scoped>\n",
       "    .dataframe tbody tr th:only-of-type {\n",
       "        vertical-align: middle;\n",
       "    }\n",
       "\n",
       "    .dataframe tbody tr th {\n",
       "        vertical-align: top;\n",
       "    }\n",
       "\n",
       "    .dataframe thead th {\n",
       "        text-align: right;\n",
       "    }\n",
       "</style>\n",
       "<table border=\"1\" class=\"dataframe\">\n",
       "  <thead>\n",
       "    <tr style=\"text-align: right;\">\n",
       "      <th></th>\n",
       "      <th>Item_Identifier</th>\n",
       "      <th>Item_Weight</th>\n",
       "      <th>Item_Fat_Content</th>\n",
       "      <th>Item_Visibility</th>\n",
       "      <th>Item_Type</th>\n",
       "      <th>Item_MRP</th>\n",
       "      <th>Outlet_Identifier</th>\n",
       "      <th>Outlet_Establishment_Year</th>\n",
       "      <th>Outlet_Size</th>\n",
       "      <th>Outlet_Location_Type</th>\n",
       "      <th>Outlet_Type</th>\n",
       "      <th>Item_Outlet_Sales</th>\n",
       "    </tr>\n",
       "  </thead>\n",
       "  <tbody>\n",
       "    <tr>\n",
       "      <th>0</th>\n",
       "      <td>FDA15</td>\n",
       "      <td>9.30</td>\n",
       "      <td>Low Fat</td>\n",
       "      <td>0.016047</td>\n",
       "      <td>Dairy</td>\n",
       "      <td>249.8092</td>\n",
       "      <td>OUT049</td>\n",
       "      <td>1999</td>\n",
       "      <td>Medium</td>\n",
       "      <td>Tier 1</td>\n",
       "      <td>Supermarket Type1</td>\n",
       "      <td>3735.1380</td>\n",
       "    </tr>\n",
       "    <tr>\n",
       "      <th>1</th>\n",
       "      <td>DRC01</td>\n",
       "      <td>5.92</td>\n",
       "      <td>Regular</td>\n",
       "      <td>0.019278</td>\n",
       "      <td>Soft Drinks</td>\n",
       "      <td>48.2692</td>\n",
       "      <td>OUT018</td>\n",
       "      <td>2009</td>\n",
       "      <td>Medium</td>\n",
       "      <td>Tier 3</td>\n",
       "      <td>Supermarket Type2</td>\n",
       "      <td>443.4228</td>\n",
       "    </tr>\n",
       "    <tr>\n",
       "      <th>2</th>\n",
       "      <td>FDN15</td>\n",
       "      <td>17.50</td>\n",
       "      <td>Low Fat</td>\n",
       "      <td>0.016760</td>\n",
       "      <td>Meat</td>\n",
       "      <td>141.6180</td>\n",
       "      <td>OUT049</td>\n",
       "      <td>1999</td>\n",
       "      <td>Medium</td>\n",
       "      <td>Tier 1</td>\n",
       "      <td>Supermarket Type1</td>\n",
       "      <td>2097.2700</td>\n",
       "    </tr>\n",
       "    <tr>\n",
       "      <th>3</th>\n",
       "      <td>FDX07</td>\n",
       "      <td>19.20</td>\n",
       "      <td>Regular</td>\n",
       "      <td>0.000000</td>\n",
       "      <td>Fruits and Vegetables</td>\n",
       "      <td>182.0950</td>\n",
       "      <td>OUT010</td>\n",
       "      <td>1998</td>\n",
       "      <td>NaN</td>\n",
       "      <td>Tier 3</td>\n",
       "      <td>Grocery Store</td>\n",
       "      <td>732.3800</td>\n",
       "    </tr>\n",
       "    <tr>\n",
       "      <th>4</th>\n",
       "      <td>NCD19</td>\n",
       "      <td>8.93</td>\n",
       "      <td>Low Fat</td>\n",
       "      <td>0.000000</td>\n",
       "      <td>Household</td>\n",
       "      <td>53.8614</td>\n",
       "      <td>OUT013</td>\n",
       "      <td>1987</td>\n",
       "      <td>High</td>\n",
       "      <td>Tier 3</td>\n",
       "      <td>Supermarket Type1</td>\n",
       "      <td>994.7052</td>\n",
       "    </tr>\n",
       "  </tbody>\n",
       "</table>\n",
       "</div>"
      ],
      "text/plain": [
       "  Item_Identifier  Item_Weight Item_Fat_Content  Item_Visibility  \\\n",
       "0           FDA15         9.30          Low Fat         0.016047   \n",
       "1           DRC01         5.92          Regular         0.019278   \n",
       "2           FDN15        17.50          Low Fat         0.016760   \n",
       "3           FDX07        19.20          Regular         0.000000   \n",
       "4           NCD19         8.93          Low Fat         0.000000   \n",
       "\n",
       "               Item_Type  Item_MRP Outlet_Identifier  \\\n",
       "0                  Dairy  249.8092            OUT049   \n",
       "1            Soft Drinks   48.2692            OUT018   \n",
       "2                   Meat  141.6180            OUT049   \n",
       "3  Fruits and Vegetables  182.0950            OUT010   \n",
       "4              Household   53.8614            OUT013   \n",
       "\n",
       "   Outlet_Establishment_Year Outlet_Size Outlet_Location_Type  \\\n",
       "0                       1999      Medium               Tier 1   \n",
       "1                       2009      Medium               Tier 3   \n",
       "2                       1999      Medium               Tier 1   \n",
       "3                       1998         NaN               Tier 3   \n",
       "4                       1987        High               Tier 3   \n",
       "\n",
       "         Outlet_Type  Item_Outlet_Sales  \n",
       "0  Supermarket Type1          3735.1380  \n",
       "1  Supermarket Type2           443.4228  \n",
       "2  Supermarket Type1          2097.2700  \n",
       "3      Grocery Store           732.3800  \n",
       "4  Supermarket Type1           994.7052  "
      ]
     },
     "execution_count": 7,
     "metadata": {},
     "output_type": "execute_result"
    }
   ],
   "source": [
    "bigMart_data.head()"
   ]
  },
  {
   "cell_type": "markdown",
   "id": "c4aefa19",
   "metadata": {},
   "source": [
    "The shape attribute tells us a number of observations and variables we have in the data set. It is used to check the dimension of data."
   ]
  },
  {
   "cell_type": "code",
   "execution_count": 9,
   "id": "ab2010e1",
   "metadata": {},
   "outputs": [
    {
     "data": {
      "text/plain": [
       "(8523, 12)"
      ]
     },
     "execution_count": 9,
     "metadata": {},
     "output_type": "execute_result"
    }
   ],
   "source": [
    "bigMart_data.shape"
   ]
  },
  {
   "cell_type": "code",
   "execution_count": 13,
   "id": "7a2f3dc8",
   "metadata": {},
   "outputs": [],
   "source": [
    "#corr() shows us the correlation of the numerical feartures with our output attribute\n",
    "#Compute pairwise correlation of columns, excluding NA/null values.\n",
    "# bigMart_data.corr()[\"Item_Outlet_Sales\"]"
   ]
  },
  {
   "cell_type": "markdown",
   "id": "bc33522d",
   "metadata": {},
   "source": [
    "info() is used to check the Information about the data and the datatypes of each respective attribute."
   ]
  },
  {
   "cell_type": "code",
   "execution_count": 11,
   "id": "76bb0ce5",
   "metadata": {},
   "outputs": [
    {
     "name": "stdout",
     "output_type": "stream",
     "text": [
      "<class 'pandas.core.frame.DataFrame'>\n",
      "RangeIndex: 8523 entries, 0 to 8522\n",
      "Data columns (total 12 columns):\n",
      " #   Column                     Non-Null Count  Dtype  \n",
      "---  ------                     --------------  -----  \n",
      " 0   Item_Identifier            8523 non-null   object \n",
      " 1   Item_Weight                7060 non-null   float64\n",
      " 2   Item_Fat_Content           8523 non-null   object \n",
      " 3   Item_Visibility            8523 non-null   float64\n",
      " 4   Item_Type                  8523 non-null   object \n",
      " 5   Item_MRP                   8523 non-null   float64\n",
      " 6   Outlet_Identifier          8523 non-null   object \n",
      " 7   Outlet_Establishment_Year  8523 non-null   int64  \n",
      " 8   Outlet_Size                6113 non-null   object \n",
      " 9   Outlet_Location_Type       8523 non-null   object \n",
      " 10  Outlet_Type                8523 non-null   object \n",
      " 11  Item_Outlet_Sales          8523 non-null   float64\n",
      "dtypes: float64(4), int64(1), object(7)\n",
      "memory usage: 799.2+ KB\n"
     ]
    }
   ],
   "source": [
    "bigMart_data.info()"
   ]
  },
  {
   "cell_type": "markdown",
   "id": "98ac2cc6",
   "metadata": {},
   "source": [
    "### Dealing with Missing Values"
   ]
  },
  {
   "cell_type": "markdown",
   "id": "cc86e648",
   "metadata": {},
   "source": [
    "How many missing data points do we have? Let's see how many we have in each column."
   ]
  },
  {
   "cell_type": "code",
   "execution_count": 12,
   "id": "86c56fa9",
   "metadata": {},
   "outputs": [
    {
     "name": "stdout",
     "output_type": "stream",
     "text": [
      "Item_Identifier                 0\n",
      "Item_Weight                  1463\n",
      "Item_Fat_Content                0\n",
      "Item_Visibility                 0\n",
      "Item_Type                       0\n",
      "Item_MRP                        0\n",
      "Outlet_Identifier               0\n",
      "Outlet_Establishment_Year       0\n",
      "Outlet_Size                  2410\n",
      "Outlet_Location_Type            0\n",
      "Outlet_Type                     0\n",
      "Item_Outlet_Sales               0\n",
      "dtype: int64\n"
     ]
    }
   ],
   "source": [
    "# get the number of missing data points per column\n",
    "missing_values_count = bigMart_data.isnull().sum()\n",
    "\n",
    "# Printing the missing points in the data set\n",
    "print(missing_values_count)"
   ]
  },
  {
   "cell_type": "markdown",
   "id": "82fa4124",
   "metadata": {},
   "source": [
    "That seems like a lot! It might be helpful to see what percentage of the values in our dataset were missing to give us a better sense of the scale of this problem:"
   ]
  },
  {
   "cell_type": "code",
   "execution_count": 14,
   "id": "d1e5ec9b",
   "metadata": {},
   "outputs": [
    {
     "name": "stdout",
     "output_type": "stream",
     "text": [
      "3.786812155344362 %\n"
     ]
    }
   ],
   "source": [
    "# how many total missing values do we have?\n",
    "total_cells = np.product(bigMart_data.shape)\n",
    "total_missing = missing_values_count.sum()\n",
    "\n",
    "# percent of data that is missing\n",
    "percent_missing = (total_missing/total_cells) * 100\n",
    "print(percent_missing, '%')"
   ]
  },
  {
   "cell_type": "markdown",
   "id": "479efe24",
   "metadata": {},
   "source": [
    "Filling in missing values automatically\n",
    "We can use the Panda's fillna() function to fill in missing values in a dataframe for us. One option we have is to specify what we want the NaN values to be replaced with. Here, I'm saying that I would like to replace all the NaN values with 0."
   ]
  },
  {
   "cell_type": "code",
   "execution_count": 9,
   "id": "a2fb7020",
   "metadata": {},
   "outputs": [
    {
     "data": {
      "text/html": [
       "<div>\n",
       "<style scoped>\n",
       "    .dataframe tbody tr th:only-of-type {\n",
       "        vertical-align: middle;\n",
       "    }\n",
       "\n",
       "    .dataframe tbody tr th {\n",
       "        vertical-align: top;\n",
       "    }\n",
       "\n",
       "    .dataframe thead th {\n",
       "        text-align: right;\n",
       "    }\n",
       "</style>\n",
       "<table border=\"1\" class=\"dataframe\">\n",
       "  <thead>\n",
       "    <tr style=\"text-align: right;\">\n",
       "      <th></th>\n",
       "      <th>Item_Identifier</th>\n",
       "      <th>Item_Weight</th>\n",
       "      <th>Item_Fat_Content</th>\n",
       "      <th>Item_Visibility</th>\n",
       "      <th>Item_Type</th>\n",
       "      <th>Item_MRP</th>\n",
       "      <th>Outlet_Identifier</th>\n",
       "      <th>Outlet_Establishment_Year</th>\n",
       "      <th>Outlet_Size</th>\n",
       "      <th>Outlet_Location_Type</th>\n",
       "      <th>Outlet_Type</th>\n",
       "      <th>Item_Outlet_Sales</th>\n",
       "    </tr>\n",
       "  </thead>\n",
       "  <tbody>\n",
       "    <tr>\n",
       "      <th>0</th>\n",
       "      <td>FDA15</td>\n",
       "      <td>9.300</td>\n",
       "      <td>Low Fat</td>\n",
       "      <td>0.016047</td>\n",
       "      <td>Dairy</td>\n",
       "      <td>249.8092</td>\n",
       "      <td>OUT049</td>\n",
       "      <td>1999</td>\n",
       "      <td>Medium</td>\n",
       "      <td>Tier 1</td>\n",
       "      <td>Supermarket Type1</td>\n",
       "      <td>3735.1380</td>\n",
       "    </tr>\n",
       "    <tr>\n",
       "      <th>1</th>\n",
       "      <td>DRC01</td>\n",
       "      <td>5.920</td>\n",
       "      <td>Regular</td>\n",
       "      <td>0.019278</td>\n",
       "      <td>Soft Drinks</td>\n",
       "      <td>48.2692</td>\n",
       "      <td>OUT018</td>\n",
       "      <td>2009</td>\n",
       "      <td>Medium</td>\n",
       "      <td>Tier 3</td>\n",
       "      <td>Supermarket Type2</td>\n",
       "      <td>443.4228</td>\n",
       "    </tr>\n",
       "    <tr>\n",
       "      <th>2</th>\n",
       "      <td>FDN15</td>\n",
       "      <td>17.500</td>\n",
       "      <td>Low Fat</td>\n",
       "      <td>0.016760</td>\n",
       "      <td>Meat</td>\n",
       "      <td>141.6180</td>\n",
       "      <td>OUT049</td>\n",
       "      <td>1999</td>\n",
       "      <td>Medium</td>\n",
       "      <td>Tier 1</td>\n",
       "      <td>Supermarket Type1</td>\n",
       "      <td>2097.2700</td>\n",
       "    </tr>\n",
       "    <tr>\n",
       "      <th>3</th>\n",
       "      <td>FDX07</td>\n",
       "      <td>19.200</td>\n",
       "      <td>Regular</td>\n",
       "      <td>0.000000</td>\n",
       "      <td>Fruits and Vegetables</td>\n",
       "      <td>182.0950</td>\n",
       "      <td>OUT010</td>\n",
       "      <td>1998</td>\n",
       "      <td>0</td>\n",
       "      <td>Tier 3</td>\n",
       "      <td>Grocery Store</td>\n",
       "      <td>732.3800</td>\n",
       "    </tr>\n",
       "    <tr>\n",
       "      <th>4</th>\n",
       "      <td>NCD19</td>\n",
       "      <td>8.930</td>\n",
       "      <td>Low Fat</td>\n",
       "      <td>0.000000</td>\n",
       "      <td>Household</td>\n",
       "      <td>53.8614</td>\n",
       "      <td>OUT013</td>\n",
       "      <td>1987</td>\n",
       "      <td>High</td>\n",
       "      <td>Tier 3</td>\n",
       "      <td>Supermarket Type1</td>\n",
       "      <td>994.7052</td>\n",
       "    </tr>\n",
       "    <tr>\n",
       "      <th>...</th>\n",
       "      <td>...</td>\n",
       "      <td>...</td>\n",
       "      <td>...</td>\n",
       "      <td>...</td>\n",
       "      <td>...</td>\n",
       "      <td>...</td>\n",
       "      <td>...</td>\n",
       "      <td>...</td>\n",
       "      <td>...</td>\n",
       "      <td>...</td>\n",
       "      <td>...</td>\n",
       "      <td>...</td>\n",
       "    </tr>\n",
       "    <tr>\n",
       "      <th>8518</th>\n",
       "      <td>FDF22</td>\n",
       "      <td>6.865</td>\n",
       "      <td>Low Fat</td>\n",
       "      <td>0.056783</td>\n",
       "      <td>Snack Foods</td>\n",
       "      <td>214.5218</td>\n",
       "      <td>OUT013</td>\n",
       "      <td>1987</td>\n",
       "      <td>High</td>\n",
       "      <td>Tier 3</td>\n",
       "      <td>Supermarket Type1</td>\n",
       "      <td>2778.3834</td>\n",
       "    </tr>\n",
       "    <tr>\n",
       "      <th>8519</th>\n",
       "      <td>FDS36</td>\n",
       "      <td>8.380</td>\n",
       "      <td>Regular</td>\n",
       "      <td>0.046982</td>\n",
       "      <td>Baking Goods</td>\n",
       "      <td>108.1570</td>\n",
       "      <td>OUT045</td>\n",
       "      <td>2002</td>\n",
       "      <td>0</td>\n",
       "      <td>Tier 2</td>\n",
       "      <td>Supermarket Type1</td>\n",
       "      <td>549.2850</td>\n",
       "    </tr>\n",
       "    <tr>\n",
       "      <th>8520</th>\n",
       "      <td>NCJ29</td>\n",
       "      <td>10.600</td>\n",
       "      <td>Low Fat</td>\n",
       "      <td>0.035186</td>\n",
       "      <td>Health and Hygiene</td>\n",
       "      <td>85.1224</td>\n",
       "      <td>OUT035</td>\n",
       "      <td>2004</td>\n",
       "      <td>Small</td>\n",
       "      <td>Tier 2</td>\n",
       "      <td>Supermarket Type1</td>\n",
       "      <td>1193.1136</td>\n",
       "    </tr>\n",
       "    <tr>\n",
       "      <th>8521</th>\n",
       "      <td>FDN46</td>\n",
       "      <td>7.210</td>\n",
       "      <td>Regular</td>\n",
       "      <td>0.145221</td>\n",
       "      <td>Snack Foods</td>\n",
       "      <td>103.1332</td>\n",
       "      <td>OUT018</td>\n",
       "      <td>2009</td>\n",
       "      <td>Medium</td>\n",
       "      <td>Tier 3</td>\n",
       "      <td>Supermarket Type2</td>\n",
       "      <td>1845.5976</td>\n",
       "    </tr>\n",
       "    <tr>\n",
       "      <th>8522</th>\n",
       "      <td>DRG01</td>\n",
       "      <td>14.800</td>\n",
       "      <td>Low Fat</td>\n",
       "      <td>0.044878</td>\n",
       "      <td>Soft Drinks</td>\n",
       "      <td>75.4670</td>\n",
       "      <td>OUT046</td>\n",
       "      <td>1997</td>\n",
       "      <td>Small</td>\n",
       "      <td>Tier 1</td>\n",
       "      <td>Supermarket Type1</td>\n",
       "      <td>765.6700</td>\n",
       "    </tr>\n",
       "  </tbody>\n",
       "</table>\n",
       "<p>8523 rows × 12 columns</p>\n",
       "</div>"
      ],
      "text/plain": [
       "     Item_Identifier  Item_Weight Item_Fat_Content  Item_Visibility  \\\n",
       "0              FDA15        9.300          Low Fat         0.016047   \n",
       "1              DRC01        5.920          Regular         0.019278   \n",
       "2              FDN15       17.500          Low Fat         0.016760   \n",
       "3              FDX07       19.200          Regular         0.000000   \n",
       "4              NCD19        8.930          Low Fat         0.000000   \n",
       "...              ...          ...              ...              ...   \n",
       "8518           FDF22        6.865          Low Fat         0.056783   \n",
       "8519           FDS36        8.380          Regular         0.046982   \n",
       "8520           NCJ29       10.600          Low Fat         0.035186   \n",
       "8521           FDN46        7.210          Regular         0.145221   \n",
       "8522           DRG01       14.800          Low Fat         0.044878   \n",
       "\n",
       "                  Item_Type  Item_MRP Outlet_Identifier  \\\n",
       "0                     Dairy  249.8092            OUT049   \n",
       "1               Soft Drinks   48.2692            OUT018   \n",
       "2                      Meat  141.6180            OUT049   \n",
       "3     Fruits and Vegetables  182.0950            OUT010   \n",
       "4                 Household   53.8614            OUT013   \n",
       "...                     ...       ...               ...   \n",
       "8518            Snack Foods  214.5218            OUT013   \n",
       "8519           Baking Goods  108.1570            OUT045   \n",
       "8520     Health and Hygiene   85.1224            OUT035   \n",
       "8521            Snack Foods  103.1332            OUT018   \n",
       "8522            Soft Drinks   75.4670            OUT046   \n",
       "\n",
       "      Outlet_Establishment_Year Outlet_Size Outlet_Location_Type  \\\n",
       "0                          1999      Medium               Tier 1   \n",
       "1                          2009      Medium               Tier 3   \n",
       "2                          1999      Medium               Tier 1   \n",
       "3                          1998           0               Tier 3   \n",
       "4                          1987        High               Tier 3   \n",
       "...                         ...         ...                  ...   \n",
       "8518                       1987        High               Tier 3   \n",
       "8519                       2002           0               Tier 2   \n",
       "8520                       2004       Small               Tier 2   \n",
       "8521                       2009      Medium               Tier 3   \n",
       "8522                       1997       Small               Tier 1   \n",
       "\n",
       "            Outlet_Type  Item_Outlet_Sales  \n",
       "0     Supermarket Type1          3735.1380  \n",
       "1     Supermarket Type2           443.4228  \n",
       "2     Supermarket Type1          2097.2700  \n",
       "3         Grocery Store           732.3800  \n",
       "4     Supermarket Type1           994.7052  \n",
       "...                 ...                ...  \n",
       "8518  Supermarket Type1          2778.3834  \n",
       "8519  Supermarket Type1           549.2850  \n",
       "8520  Supermarket Type1          1193.1136  \n",
       "8521  Supermarket Type2          1845.5976  \n",
       "8522  Supermarket Type1           765.6700  \n",
       "\n",
       "[8523 rows x 12 columns]"
      ]
     },
     "execution_count": 9,
     "metadata": {},
     "output_type": "execute_result"
    }
   ],
   "source": [
    "bigMart_data.fillna(0)"
   ]
  },
  {
   "cell_type": "markdown",
   "id": "d276d376",
   "metadata": {},
   "source": [
    "I could also be a bit more savvy and replace missing values with whatever value comes directly after it in the same column. (This makes a lot of sense for datasets where the observations have some sort of logical order to them.)"
   ]
  },
  {
   "cell_type": "code",
   "execution_count": 15,
   "id": "5c32e78a",
   "metadata": {},
   "outputs": [
    {
     "name": "stderr",
     "output_type": "stream",
     "text": [
      "C:\\Users\\pc planet\\AppData\\Local\\Temp\\ipykernel_11928\\4112042477.py:1: FutureWarning: DataFrame.fillna with 'method' is deprecated and will raise in a future version. Use obj.ffill() or obj.bfill() instead.\n",
      "  bigMart_data.fillna(method='bfill', axis=1).fillna(0)\n",
      "C:\\Users\\pc planet\\AppData\\Local\\Temp\\ipykernel_11928\\4112042477.py:1: FutureWarning: Downcasting object dtype arrays on .fillna, .ffill, .bfill is deprecated and will change in a future version. Call result.infer_objects(copy=False) instead. To opt-in to the future behavior, set `pd.set_option('future.no_silent_downcasting', True)`\n",
      "  bigMart_data.fillna(method='bfill', axis=1).fillna(0)\n"
     ]
    },
    {
     "data": {
      "text/html": [
       "<div>\n",
       "<style scoped>\n",
       "    .dataframe tbody tr th:only-of-type {\n",
       "        vertical-align: middle;\n",
       "    }\n",
       "\n",
       "    .dataframe tbody tr th {\n",
       "        vertical-align: top;\n",
       "    }\n",
       "\n",
       "    .dataframe thead th {\n",
       "        text-align: right;\n",
       "    }\n",
       "</style>\n",
       "<table border=\"1\" class=\"dataframe\">\n",
       "  <thead>\n",
       "    <tr style=\"text-align: right;\">\n",
       "      <th></th>\n",
       "      <th>Item_Identifier</th>\n",
       "      <th>Item_Weight</th>\n",
       "      <th>Item_Fat_Content</th>\n",
       "      <th>Item_Visibility</th>\n",
       "      <th>Item_Type</th>\n",
       "      <th>Item_MRP</th>\n",
       "      <th>Outlet_Identifier</th>\n",
       "      <th>Outlet_Establishment_Year</th>\n",
       "      <th>Outlet_Size</th>\n",
       "      <th>Outlet_Location_Type</th>\n",
       "      <th>Outlet_Type</th>\n",
       "      <th>Item_Outlet_Sales</th>\n",
       "    </tr>\n",
       "  </thead>\n",
       "  <tbody>\n",
       "    <tr>\n",
       "      <th>0</th>\n",
       "      <td>FDA15</td>\n",
       "      <td>9.3</td>\n",
       "      <td>Low Fat</td>\n",
       "      <td>0.016047</td>\n",
       "      <td>Dairy</td>\n",
       "      <td>249.8092</td>\n",
       "      <td>OUT049</td>\n",
       "      <td>1999</td>\n",
       "      <td>Medium</td>\n",
       "      <td>Tier 1</td>\n",
       "      <td>Supermarket Type1</td>\n",
       "      <td>3735.1380</td>\n",
       "    </tr>\n",
       "    <tr>\n",
       "      <th>1</th>\n",
       "      <td>DRC01</td>\n",
       "      <td>5.92</td>\n",
       "      <td>Regular</td>\n",
       "      <td>0.019278</td>\n",
       "      <td>Soft Drinks</td>\n",
       "      <td>48.2692</td>\n",
       "      <td>OUT018</td>\n",
       "      <td>2009</td>\n",
       "      <td>Medium</td>\n",
       "      <td>Tier 3</td>\n",
       "      <td>Supermarket Type2</td>\n",
       "      <td>443.4228</td>\n",
       "    </tr>\n",
       "    <tr>\n",
       "      <th>2</th>\n",
       "      <td>FDN15</td>\n",
       "      <td>17.5</td>\n",
       "      <td>Low Fat</td>\n",
       "      <td>0.016760</td>\n",
       "      <td>Meat</td>\n",
       "      <td>141.6180</td>\n",
       "      <td>OUT049</td>\n",
       "      <td>1999</td>\n",
       "      <td>Medium</td>\n",
       "      <td>Tier 1</td>\n",
       "      <td>Supermarket Type1</td>\n",
       "      <td>2097.2700</td>\n",
       "    </tr>\n",
       "    <tr>\n",
       "      <th>3</th>\n",
       "      <td>FDX07</td>\n",
       "      <td>19.2</td>\n",
       "      <td>Regular</td>\n",
       "      <td>0.000000</td>\n",
       "      <td>Fruits and Vegetables</td>\n",
       "      <td>182.0950</td>\n",
       "      <td>OUT010</td>\n",
       "      <td>1998</td>\n",
       "      <td>Tier 3</td>\n",
       "      <td>Tier 3</td>\n",
       "      <td>Grocery Store</td>\n",
       "      <td>732.3800</td>\n",
       "    </tr>\n",
       "    <tr>\n",
       "      <th>4</th>\n",
       "      <td>NCD19</td>\n",
       "      <td>8.93</td>\n",
       "      <td>Low Fat</td>\n",
       "      <td>0.000000</td>\n",
       "      <td>Household</td>\n",
       "      <td>53.8614</td>\n",
       "      <td>OUT013</td>\n",
       "      <td>1987</td>\n",
       "      <td>High</td>\n",
       "      <td>Tier 3</td>\n",
       "      <td>Supermarket Type1</td>\n",
       "      <td>994.7052</td>\n",
       "    </tr>\n",
       "    <tr>\n",
       "      <th>...</th>\n",
       "      <td>...</td>\n",
       "      <td>...</td>\n",
       "      <td>...</td>\n",
       "      <td>...</td>\n",
       "      <td>...</td>\n",
       "      <td>...</td>\n",
       "      <td>...</td>\n",
       "      <td>...</td>\n",
       "      <td>...</td>\n",
       "      <td>...</td>\n",
       "      <td>...</td>\n",
       "      <td>...</td>\n",
       "    </tr>\n",
       "    <tr>\n",
       "      <th>8518</th>\n",
       "      <td>FDF22</td>\n",
       "      <td>6.865</td>\n",
       "      <td>Low Fat</td>\n",
       "      <td>0.056783</td>\n",
       "      <td>Snack Foods</td>\n",
       "      <td>214.5218</td>\n",
       "      <td>OUT013</td>\n",
       "      <td>1987</td>\n",
       "      <td>High</td>\n",
       "      <td>Tier 3</td>\n",
       "      <td>Supermarket Type1</td>\n",
       "      <td>2778.3834</td>\n",
       "    </tr>\n",
       "    <tr>\n",
       "      <th>8519</th>\n",
       "      <td>FDS36</td>\n",
       "      <td>8.38</td>\n",
       "      <td>Regular</td>\n",
       "      <td>0.046982</td>\n",
       "      <td>Baking Goods</td>\n",
       "      <td>108.1570</td>\n",
       "      <td>OUT045</td>\n",
       "      <td>2002</td>\n",
       "      <td>Tier 2</td>\n",
       "      <td>Tier 2</td>\n",
       "      <td>Supermarket Type1</td>\n",
       "      <td>549.2850</td>\n",
       "    </tr>\n",
       "    <tr>\n",
       "      <th>8520</th>\n",
       "      <td>NCJ29</td>\n",
       "      <td>10.6</td>\n",
       "      <td>Low Fat</td>\n",
       "      <td>0.035186</td>\n",
       "      <td>Health and Hygiene</td>\n",
       "      <td>85.1224</td>\n",
       "      <td>OUT035</td>\n",
       "      <td>2004</td>\n",
       "      <td>Small</td>\n",
       "      <td>Tier 2</td>\n",
       "      <td>Supermarket Type1</td>\n",
       "      <td>1193.1136</td>\n",
       "    </tr>\n",
       "    <tr>\n",
       "      <th>8521</th>\n",
       "      <td>FDN46</td>\n",
       "      <td>7.21</td>\n",
       "      <td>Regular</td>\n",
       "      <td>0.145221</td>\n",
       "      <td>Snack Foods</td>\n",
       "      <td>103.1332</td>\n",
       "      <td>OUT018</td>\n",
       "      <td>2009</td>\n",
       "      <td>Medium</td>\n",
       "      <td>Tier 3</td>\n",
       "      <td>Supermarket Type2</td>\n",
       "      <td>1845.5976</td>\n",
       "    </tr>\n",
       "    <tr>\n",
       "      <th>8522</th>\n",
       "      <td>DRG01</td>\n",
       "      <td>14.8</td>\n",
       "      <td>Low Fat</td>\n",
       "      <td>0.044878</td>\n",
       "      <td>Soft Drinks</td>\n",
       "      <td>75.4670</td>\n",
       "      <td>OUT046</td>\n",
       "      <td>1997</td>\n",
       "      <td>Small</td>\n",
       "      <td>Tier 1</td>\n",
       "      <td>Supermarket Type1</td>\n",
       "      <td>765.6700</td>\n",
       "    </tr>\n",
       "  </tbody>\n",
       "</table>\n",
       "<p>8523 rows × 12 columns</p>\n",
       "</div>"
      ],
      "text/plain": [
       "     Item_Identifier Item_Weight Item_Fat_Content  Item_Visibility  \\\n",
       "0              FDA15         9.3          Low Fat         0.016047   \n",
       "1              DRC01        5.92          Regular         0.019278   \n",
       "2              FDN15        17.5          Low Fat         0.016760   \n",
       "3              FDX07        19.2          Regular         0.000000   \n",
       "4              NCD19        8.93          Low Fat         0.000000   \n",
       "...              ...         ...              ...              ...   \n",
       "8518           FDF22       6.865          Low Fat         0.056783   \n",
       "8519           FDS36        8.38          Regular         0.046982   \n",
       "8520           NCJ29        10.6          Low Fat         0.035186   \n",
       "8521           FDN46        7.21          Regular         0.145221   \n",
       "8522           DRG01        14.8          Low Fat         0.044878   \n",
       "\n",
       "                  Item_Type  Item_MRP Outlet_Identifier  \\\n",
       "0                     Dairy  249.8092            OUT049   \n",
       "1               Soft Drinks   48.2692            OUT018   \n",
       "2                      Meat  141.6180            OUT049   \n",
       "3     Fruits and Vegetables  182.0950            OUT010   \n",
       "4                 Household   53.8614            OUT013   \n",
       "...                     ...       ...               ...   \n",
       "8518            Snack Foods  214.5218            OUT013   \n",
       "8519           Baking Goods  108.1570            OUT045   \n",
       "8520     Health and Hygiene   85.1224            OUT035   \n",
       "8521            Snack Foods  103.1332            OUT018   \n",
       "8522            Soft Drinks   75.4670            OUT046   \n",
       "\n",
       "      Outlet_Establishment_Year Outlet_Size Outlet_Location_Type  \\\n",
       "0                          1999      Medium               Tier 1   \n",
       "1                          2009      Medium               Tier 3   \n",
       "2                          1999      Medium               Tier 1   \n",
       "3                          1998      Tier 3               Tier 3   \n",
       "4                          1987        High               Tier 3   \n",
       "...                         ...         ...                  ...   \n",
       "8518                       1987        High               Tier 3   \n",
       "8519                       2002      Tier 2               Tier 2   \n",
       "8520                       2004       Small               Tier 2   \n",
       "8521                       2009      Medium               Tier 3   \n",
       "8522                       1997       Small               Tier 1   \n",
       "\n",
       "            Outlet_Type  Item_Outlet_Sales  \n",
       "0     Supermarket Type1          3735.1380  \n",
       "1     Supermarket Type2           443.4228  \n",
       "2     Supermarket Type1          2097.2700  \n",
       "3         Grocery Store           732.3800  \n",
       "4     Supermarket Type1           994.7052  \n",
       "...                 ...                ...  \n",
       "8518  Supermarket Type1          2778.3834  \n",
       "8519  Supermarket Type1           549.2850  \n",
       "8520  Supermarket Type1          1193.1136  \n",
       "8521  Supermarket Type2          1845.5976  \n",
       "8522  Supermarket Type1           765.6700  \n",
       "\n",
       "[8523 rows x 12 columns]"
      ]
     },
     "execution_count": 15,
     "metadata": {},
     "output_type": "execute_result"
    }
   ],
   "source": [
    "bigMart_data.fillna(method='bfill', axis=1).fillna(0)"
   ]
  },
  {
   "cell_type": "markdown",
   "id": "e4f510ca",
   "metadata": {},
   "source": [
    "Using ffill statements for the missing values just as a try\n",
    "Replace missing values with whatever value comes directly before it in the same column."
   ]
  },
  {
   "cell_type": "code",
   "execution_count": 16,
   "id": "7fc2ce69",
   "metadata": {},
   "outputs": [
    {
     "name": "stdout",
     "output_type": "stream",
     "text": [
      "Item_Identifier              0\n",
      "Item_Weight                  0\n",
      "Item_Fat_Content             0\n",
      "Item_Visibility              0\n",
      "Item_Type                    0\n",
      "Item_MRP                     0\n",
      "Outlet_Identifier            0\n",
      "Outlet_Establishment_Year    0\n",
      "Outlet_Size                  0\n",
      "Outlet_Location_Type         0\n",
      "Outlet_Type                  0\n",
      "Item_Outlet_Sales            0\n",
      "dtype: int64\n"
     ]
    }
   ],
   "source": [
    "bigMart_data.loc[:,bigMart_data.columns] = bigMart_data.loc[:,bigMart_data.columns].ffill()\n",
    "# get the number of missing data points per column\n",
    "missing_values_count = bigMart_data.isnull().sum()\n",
    "# Printing the missing points in the data set\n",
    "print(missing_values_count)"
   ]
  },
  {
   "cell_type": "markdown",
   "id": "d87ee127",
   "metadata": {},
   "source": [
    "The described method will help to see how data has been spread for numerical values. We can clearly see the minimum value, mean values, different percentile values, and maximum values."
   ]
  },
  {
   "cell_type": "code",
   "execution_count": 17,
   "id": "59805449",
   "metadata": {},
   "outputs": [
    {
     "data": {
      "text/html": [
       "<div>\n",
       "<style scoped>\n",
       "    .dataframe tbody tr th:only-of-type {\n",
       "        vertical-align: middle;\n",
       "    }\n",
       "\n",
       "    .dataframe tbody tr th {\n",
       "        vertical-align: top;\n",
       "    }\n",
       "\n",
       "    .dataframe thead th {\n",
       "        text-align: right;\n",
       "    }\n",
       "</style>\n",
       "<table border=\"1\" class=\"dataframe\">\n",
       "  <thead>\n",
       "    <tr style=\"text-align: right;\">\n",
       "      <th></th>\n",
       "      <th>Item_Weight</th>\n",
       "      <th>Item_Visibility</th>\n",
       "      <th>Item_MRP</th>\n",
       "      <th>Outlet_Establishment_Year</th>\n",
       "      <th>Item_Outlet_Sales</th>\n",
       "    </tr>\n",
       "  </thead>\n",
       "  <tbody>\n",
       "    <tr>\n",
       "      <th>count</th>\n",
       "      <td>8523.000000</td>\n",
       "      <td>8523.000000</td>\n",
       "      <td>8523.000000</td>\n",
       "      <td>8523.000000</td>\n",
       "      <td>8523.000000</td>\n",
       "    </tr>\n",
       "    <tr>\n",
       "      <th>mean</th>\n",
       "      <td>12.849649</td>\n",
       "      <td>0.066132</td>\n",
       "      <td>140.992782</td>\n",
       "      <td>1997.831867</td>\n",
       "      <td>2181.288914</td>\n",
       "    </tr>\n",
       "    <tr>\n",
       "      <th>std</th>\n",
       "      <td>4.631020</td>\n",
       "      <td>0.051598</td>\n",
       "      <td>62.275067</td>\n",
       "      <td>8.371760</td>\n",
       "      <td>1706.499616</td>\n",
       "    </tr>\n",
       "    <tr>\n",
       "      <th>min</th>\n",
       "      <td>4.555000</td>\n",
       "      <td>0.000000</td>\n",
       "      <td>31.290000</td>\n",
       "      <td>1985.000000</td>\n",
       "      <td>33.290000</td>\n",
       "    </tr>\n",
       "    <tr>\n",
       "      <th>25%</th>\n",
       "      <td>8.785000</td>\n",
       "      <td>0.026989</td>\n",
       "      <td>93.826500</td>\n",
       "      <td>1987.000000</td>\n",
       "      <td>834.247400</td>\n",
       "    </tr>\n",
       "    <tr>\n",
       "      <th>50%</th>\n",
       "      <td>12.600000</td>\n",
       "      <td>0.053931</td>\n",
       "      <td>143.012800</td>\n",
       "      <td>1999.000000</td>\n",
       "      <td>1794.331000</td>\n",
       "    </tr>\n",
       "    <tr>\n",
       "      <th>75%</th>\n",
       "      <td>16.750000</td>\n",
       "      <td>0.094585</td>\n",
       "      <td>185.643700</td>\n",
       "      <td>2004.000000</td>\n",
       "      <td>3101.296400</td>\n",
       "    </tr>\n",
       "    <tr>\n",
       "      <th>max</th>\n",
       "      <td>21.350000</td>\n",
       "      <td>0.328391</td>\n",
       "      <td>266.888400</td>\n",
       "      <td>2009.000000</td>\n",
       "      <td>13086.964800</td>\n",
       "    </tr>\n",
       "  </tbody>\n",
       "</table>\n",
       "</div>"
      ],
      "text/plain": [
       "       Item_Weight  Item_Visibility     Item_MRP  Outlet_Establishment_Year  \\\n",
       "count  8523.000000      8523.000000  8523.000000                8523.000000   \n",
       "mean     12.849649         0.066132   140.992782                1997.831867   \n",
       "std       4.631020         0.051598    62.275067                   8.371760   \n",
       "min       4.555000         0.000000    31.290000                1985.000000   \n",
       "25%       8.785000         0.026989    93.826500                1987.000000   \n",
       "50%      12.600000         0.053931   143.012800                1999.000000   \n",
       "75%      16.750000         0.094585   185.643700                2004.000000   \n",
       "max      21.350000         0.328391   266.888400                2009.000000   \n",
       "\n",
       "       Item_Outlet_Sales  \n",
       "count        8523.000000  \n",
       "mean         2181.288914  \n",
       "std          1706.499616  \n",
       "min            33.290000  \n",
       "25%           834.247400  \n",
       "50%          1794.331000  \n",
       "75%          3101.296400  \n",
       "max         13086.964800  "
      ]
     },
     "execution_count": 17,
     "metadata": {},
     "output_type": "execute_result"
    }
   ],
   "source": [
    "bigMart_data.describe()"
   ]
  },
  {
   "cell_type": "markdown",
   "id": "f55d5549",
   "metadata": {},
   "source": [
    "### Handling Outlier\n",
    "Outliers, being the most extreme observations, may include the sample maximum or sample minimum, or both, depending on whether they are extremely high or low. However, the sample maximum and minimum are not always outliers because they may not be unusually far from other observations.\n",
    "\n",
    "We Generally identify outliers with the help of boxplot, so here we will identify outliers of each attribute and if we found any will remove those."
   ]
  },
  {
   "cell_type": "markdown",
   "id": "0d052d58",
   "metadata": {},
   "source": [
    "#### Checking \"Item_Weight\" Outliers"
   ]
  },
  {
   "cell_type": "code",
   "execution_count": 18,
   "id": "8e20fb6e",
   "metadata": {},
   "outputs": [
    {
     "data": {
      "text/plain": [
       "<function matplotlib.pyplot.show(close=None, block=None)>"
      ]
     },
     "execution_count": 18,
     "metadata": {},
     "output_type": "execute_result"
    },
    {
     "data": {
      "image/png": "[encoded data removed]",
      "text/plain": [
       "<Figure size 640x480 with 1 Axes>"
      ]
     },
     "metadata": {},
     "output_type": "display_data"
    }
   ],
   "source": [
    "bigMart_data.boxplot(column=[\"Item_Weight\"])\n",
    "plt.show"
   ]
  },
  {
   "cell_type": "markdown",
   "id": "2fe16a57",
   "metadata": {},
   "source": [
    "There is no outlier in this attribute, let's check if next attribute got any."
   ]
  },
  {
   "cell_type": "markdown",
   "id": "d2d704e0",
   "metadata": {},
   "source": [
    "#### Checking \"Item_Visibility\" Outliers"
   ]
  },
  {
   "cell_type": "code",
   "execution_count": 19,
   "id": "6fca34c2",
   "metadata": {},
   "outputs": [
    {
     "data": {
      "text/plain": [
       "<function matplotlib.pyplot.show(close=None, block=None)>"
      ]
     },
     "execution_count": 19,
     "metadata": {},
     "output_type": "execute_result"
    },
    {
     "data": {
      "image/png": "[encoded data removed]",
      "text/plain": [
       "<Figure size 640x480 with 1 Axes>"
      ]
     },
     "metadata": {},
     "output_type": "display_data"
    }
   ],
   "source": [
    "bigMart_data.boxplot(column=[\"Item_Visibility\"])\n",
    "plt.show"
   ]
  },
  {
   "cell_type": "markdown",
   "id": "9bdc6e90",
   "metadata": {},
   "source": [
    "Looking at the box plot, it seems that the variables \"Item_Visibility\", have outlier present in the variables. These outliers value needs to be teated and there are several ways of treating them:\n",
    "\n",
    "* Drop the outlier value\n",
    "* Replace the outlier value using the IQR"
   ]
  },
  {
   "cell_type": "code",
   "execution_count": 20,
   "id": "aaffe5c7",
   "metadata": {},
   "outputs": [],
   "source": [
    "#def remove_outliear(col):\n",
    "#create a user defined function called remove_outliner for getting the threshold value from IQR\n",
    "\n",
    "def remove_outlier(col):\n",
    "    sorted(col)\n",
    "    Q1,Q3=col.quantile([0.25,0.74])\n",
    "    IQR=Q3-Q1\n",
    "    lower_range = Q1-(1.5 * IQR)\n",
    "    upper_range = Q3+(1.5 * IQR)\n",
    "    \n",
    "    return lower_range, upper_range"
   ]
  },
  {
   "cell_type": "code",
   "execution_count": 21,
   "id": "865b9728",
   "metadata": {},
   "outputs": [],
   "source": [
    "lower_range, upper_range = remove_outlier(bigMart_data['Item_Visibility'])\n",
    "bigMart_data['Item_Visibility']=np.where(bigMart_data['Item_Visibility']>upper_range,upper_range,bigMart_data['Item_Visibility'])\n",
    "bigMart_data['Item_Visibility']=np.where(bigMart_data['Item_Visibility']<lower_range,lower_range,bigMart_data['Item_Visibility'])\n"
   ]
  },
  {
   "cell_type": "code",
   "execution_count": 22,
   "id": "1bec0066",
   "metadata": {},
   "outputs": [
    {
     "data": {
      "text/plain": [
       "-0.07185071408999999"
      ]
     },
     "execution_count": 22,
     "metadata": {},
     "output_type": "execute_result"
    }
   ],
   "source": [
    "lower_range"
   ]
  },
  {
   "cell_type": "code",
   "execution_count": 23,
   "id": "38b00e96",
   "metadata": {},
   "outputs": [
    {
     "data": {
      "text/plain": [
       "0.19172313014999998"
      ]
     },
     "execution_count": 23,
     "metadata": {},
     "output_type": "execute_result"
    }
   ],
   "source": [
    "upper_range"
   ]
  },
  {
   "cell_type": "markdown",
   "id": "797bcade",
   "metadata": {},
   "source": [
    "Boxplot After removing outlier"
   ]
  },
  {
   "cell_type": "code",
   "execution_count": 24,
   "id": "e620ed89",
   "metadata": {},
   "outputs": [
    {
     "data": {
      "image/png": "[encoded data removed]",
      "text/plain": [
       "<Figure size 640x480 with 1 Axes>"
      ]
     },
     "metadata": {},
     "output_type": "display_data"
    }
   ],
   "source": [
    "bigMart_data.boxplot(column=['Item_Visibility'])\n",
    "plt.show()"
   ]
  },
  {
   "cell_type": "markdown",
   "id": "bd23df7f",
   "metadata": {},
   "source": [
    "#### Checking \"Item_MRP\" Outliers"
   ]
  },
  {
   "cell_type": "code",
   "execution_count": 25,
   "id": "e83fa124",
   "metadata": {},
   "outputs": [
    {
     "data": {
      "text/plain": [
       "<function matplotlib.pyplot.show(close=None, block=None)>"
      ]
     },
     "execution_count": 25,
     "metadata": {},
     "output_type": "execute_result"
    },
    {
     "data": {
      "image/png": "[encoded data removed]",
      "text/plain": [
       "<Figure size 640x480 with 1 Axes>"
      ]
     },
     "metadata": {},
     "output_type": "display_data"
    }
   ],
   "source": [
    "bigMart_data.boxplot(column=[\"Item_MRP\"])\n",
    "plt.show"
   ]
  },
  {
   "cell_type": "markdown",
   "id": "b803d67e",
   "metadata": {},
   "source": [
    "There is no outlier in 'Item_MRP', let's check if next attribute got any."
   ]
  },
  {
   "cell_type": "markdown",
   "id": "987874bd",
   "metadata": {},
   "source": [
    "#### Checking \"Outlet_Establishment_Year\" Outliers"
   ]
  },
  {
   "cell_type": "code",
   "execution_count": 26,
   "id": "2f244690",
   "metadata": {},
   "outputs": [
    {
     "data": {
      "text/plain": [
       "<function matplotlib.pyplot.show(close=None, block=None)>"
      ]
     },
     "execution_count": 26,
     "metadata": {},
     "output_type": "execute_result"
    },
    {
     "data": {
      "image/png": "[encoded data removed]",
      "text/plain": [
       "<Figure size 640x480 with 1 Axes>"
      ]
     },
     "metadata": {},
     "output_type": "display_data"
    }
   ],
   "source": [
    "bigMart_data.boxplot(column=[\"Outlet_Establishment_Year\"])\n",
    "plt.show"
   ]
  },
  {
   "cell_type": "markdown",
   "id": "111fae28",
   "metadata": {},
   "source": [
    "There is no outlier in 'Item_MRP', let's check if next attribute got any."
   ]
  },
  {
   "cell_type": "markdown",
   "id": "4187ab4e",
   "metadata": {},
   "source": [
    "We have tried to graph and see the outlier values in all of the columns, and found out that there were just one columns which were having some outlier values. We have removed them using the remove_outlier() function."
   ]
  },
  {
   "cell_type": "markdown",
   "id": "866f2f22",
   "metadata": {},
   "source": [
    "### Normalizing and Scaling\n",
    "Often the variables of the data set are of different scales i.e. one variable is in millions and others in only 100. \n",
    "\n",
    "Feature scaling (also known as data normalization) is the method used to standardize the range of features of data. Since the range of values of data may vary widely, it becomes a necessary step in data preprocessing while using machine learning algorithms.\n",
    "\n",
    "In this method, we convert variables with different scales of measurements into a single scale. StandardScaler normalizes the data using the formula (x-mean)/standard deviation. We will be doing this only for the numerical variables."
   ]
  },
  {
   "cell_type": "code",
   "execution_count": 27,
   "id": "4d00a43a",
   "metadata": {},
   "outputs": [
    {
     "name": "stdout",
     "output_type": "stream",
     "text": [
      "setup imported StandardScaler()\n"
     ]
    }
   ],
   "source": [
    "#scales the data, Essentially returns the z-scores of every attribute\n",
    "# z-score: z-score )also called a standard score) gives you an idea of how far from the mean a data point is.\n",
    "#but more technically it's measure of how many standard deviations below or above the population mean a raw score is \n",
    "\n",
    "from sklearn.preprocessing import StandardScaler\n",
    "std_scale = StandardScaler()\n",
    "print('setup imported',std_scale)"
   ]
  },
  {
   "cell_type": "code",
   "execution_count": 28,
   "id": "9652f73a",
   "metadata": {},
   "outputs": [],
   "source": [
    "bigMart_data['Item_Weight']=std_scale.fit_transform(bigMart_data[['Item_Weight']])\n",
    "bigMart_data['Item_Visibility']=std_scale.fit_transform(bigMart_data[['Item_Visibility']])\n",
    "bigMart_data['Item_MRP']=std_scale.fit_transform(bigMart_data[['Item_MRP']])\n",
    "bigMart_data['Outlet_Establishment_Year']=std_scale.fit_transform(bigMart_data[['Outlet_Establishment_Year']])\n",
    "bigMart_data['Item_Outlet_Sales']=std_scale.fit_transform(bigMart_data[['Item_Outlet_Sales']])"
   ]
  },
  {
   "cell_type": "markdown",
   "id": "18f943f9",
   "metadata": {},
   "source": [
    "__I've commented the Normalization code, As it was disturbing the output values, and overall results of the different algorithms, We can uncomment the above cell code and can try to see how's it performing with normalization too...__"
   ]
  },
  {
   "cell_type": "code",
   "execution_count": 29,
   "id": "e123fc51",
   "metadata": {},
   "outputs": [
    {
     "data": {
      "text/html": [
       "<div>\n",
       "<style scoped>\n",
       "    .dataframe tbody tr th:only-of-type {\n",
       "        vertical-align: middle;\n",
       "    }\n",
       "\n",
       "    .dataframe tbody tr th {\n",
       "        vertical-align: top;\n",
       "    }\n",
       "\n",
       "    .dataframe thead th {\n",
       "        text-align: right;\n",
       "    }\n",
       "</style>\n",
       "<table border=\"1\" class=\"dataframe\">\n",
       "  <thead>\n",
       "    <tr style=\"text-align: right;\">\n",
       "      <th></th>\n",
       "      <th>Item_Identifier</th>\n",
       "      <th>Item_Weight</th>\n",
       "      <th>Item_Fat_Content</th>\n",
       "      <th>Item_Visibility</th>\n",
       "      <th>Item_Type</th>\n",
       "      <th>Item_MRP</th>\n",
       "      <th>Outlet_Identifier</th>\n",
       "      <th>Outlet_Establishment_Year</th>\n",
       "      <th>Outlet_Size</th>\n",
       "      <th>Outlet_Location_Type</th>\n",
       "      <th>Outlet_Type</th>\n",
       "      <th>Item_Outlet_Sales</th>\n",
       "    </tr>\n",
       "  </thead>\n",
       "  <tbody>\n",
       "    <tr>\n",
       "      <th>0</th>\n",
       "      <td>FDA15</td>\n",
       "      <td>-0.766539</td>\n",
       "      <td>Low Fat</td>\n",
       "      <td>-1.011166</td>\n",
       "      <td>Dairy</td>\n",
       "      <td>1.747454</td>\n",
       "      <td>OUT049</td>\n",
       "      <td>0.139541</td>\n",
       "      <td>Medium</td>\n",
       "      <td>Tier 1</td>\n",
       "      <td>Supermarket Type1</td>\n",
       "      <td>0.910601</td>\n",
       "    </tr>\n",
       "    <tr>\n",
       "      <th>1</th>\n",
       "      <td>DRC01</td>\n",
       "      <td>-1.496443</td>\n",
       "      <td>Regular</td>\n",
       "      <td>-0.944744</td>\n",
       "      <td>Soft Drinks</td>\n",
       "      <td>-1.489023</td>\n",
       "      <td>OUT018</td>\n",
       "      <td>1.334103</td>\n",
       "      <td>Medium</td>\n",
       "      <td>Tier 3</td>\n",
       "      <td>Supermarket Type2</td>\n",
       "      <td>-1.018440</td>\n",
       "    </tr>\n",
       "    <tr>\n",
       "      <th>2</th>\n",
       "      <td>FDN15</td>\n",
       "      <td>1.004233</td>\n",
       "      <td>Low Fat</td>\n",
       "      <td>-0.996512</td>\n",
       "      <td>Meat</td>\n",
       "      <td>0.010040</td>\n",
       "      <td>OUT049</td>\n",
       "      <td>0.139541</td>\n",
       "      <td>Medium</td>\n",
       "      <td>Tier 1</td>\n",
       "      <td>Supermarket Type1</td>\n",
       "      <td>-0.049238</td>\n",
       "    </tr>\n",
       "    <tr>\n",
       "      <th>3</th>\n",
       "      <td>FDX07</td>\n",
       "      <td>1.371344</td>\n",
       "      <td>Regular</td>\n",
       "      <td>-1.341070</td>\n",
       "      <td>Fruits and Vegetables</td>\n",
       "      <td>0.660050</td>\n",
       "      <td>OUT010</td>\n",
       "      <td>0.020085</td>\n",
       "      <td>Medium</td>\n",
       "      <td>Tier 3</td>\n",
       "      <td>Grocery Store</td>\n",
       "      <td>-0.849103</td>\n",
       "    </tr>\n",
       "    <tr>\n",
       "      <th>4</th>\n",
       "      <td>NCD19</td>\n",
       "      <td>-0.846440</td>\n",
       "      <td>Low Fat</td>\n",
       "      <td>-1.341070</td>\n",
       "      <td>Household</td>\n",
       "      <td>-1.399220</td>\n",
       "      <td>OUT013</td>\n",
       "      <td>-1.293934</td>\n",
       "      <td>High</td>\n",
       "      <td>Tier 3</td>\n",
       "      <td>Supermarket Type1</td>\n",
       "      <td>-0.695373</td>\n",
       "    </tr>\n",
       "  </tbody>\n",
       "</table>\n",
       "</div>"
      ],
      "text/plain": [
       "  Item_Identifier  Item_Weight Item_Fat_Content  Item_Visibility  \\\n",
       "0           FDA15    -0.766539          Low Fat        -1.011166   \n",
       "1           DRC01    -1.496443          Regular        -0.944744   \n",
       "2           FDN15     1.004233          Low Fat        -0.996512   \n",
       "3           FDX07     1.371344          Regular        -1.341070   \n",
       "4           NCD19    -0.846440          Low Fat        -1.341070   \n",
       "\n",
       "               Item_Type  Item_MRP Outlet_Identifier  \\\n",
       "0                  Dairy  1.747454            OUT049   \n",
       "1            Soft Drinks -1.489023            OUT018   \n",
       "2                   Meat  0.010040            OUT049   \n",
       "3  Fruits and Vegetables  0.660050            OUT010   \n",
       "4              Household -1.399220            OUT013   \n",
       "\n",
       "   Outlet_Establishment_Year Outlet_Size Outlet_Location_Type  \\\n",
       "0                   0.139541      Medium               Tier 1   \n",
       "1                   1.334103      Medium               Tier 3   \n",
       "2                   0.139541      Medium               Tier 1   \n",
       "3                   0.020085      Medium               Tier 3   \n",
       "4                  -1.293934        High               Tier 3   \n",
       "\n",
       "         Outlet_Type  Item_Outlet_Sales  \n",
       "0  Supermarket Type1           0.910601  \n",
       "1  Supermarket Type2          -1.018440  \n",
       "2  Supermarket Type1          -0.049238  \n",
       "3      Grocery Store          -0.849103  \n",
       "4  Supermarket Type1          -0.695373  "
      ]
     },
     "execution_count": 29,
     "metadata": {},
     "output_type": "execute_result"
    }
   ],
   "source": [
    "bigMart_data.head()"
   ]
  },
  {
   "cell_type": "markdown",
   "id": "83b8c688",
   "metadata": {},
   "source": [
    "## Exploratory Data Analysis (eda) - Graphs\n",
    "“A picture is worth a thousand words”.\n",
    "\n",
    "The quote is definitely true of Data visualization as the information conveyed is more valuable than the old saying.\n",
    "Data visualization is the process of representing data using visual elements like charts, graphs, etc. that helps in deriving meaningful insights from the data. It is aimed at revealing the information behind the data and further aids the viewer in seeing the structure in the data.\n",
    "\n",
    "Data visualization will make the scientific findings accessible to anyone with minimal exposure in data science and helps one to communicate the information easily. It is to be understood that the visualization technique one employs for a particular data set depends on the individual’s taste and preference."
   ]
  },
  {
   "cell_type": "code",
   "execution_count": 30,
   "id": "baf4e9bf",
   "metadata": {},
   "outputs": [
    {
     "data": {
      "text/plain": [
       "Item_Identifier               object\n",
       "Item_Weight                  float64\n",
       "Item_Fat_Content              object\n",
       "Item_Visibility              float64\n",
       "Item_Type                     object\n",
       "Item_MRP                     float64\n",
       "Outlet_Identifier             object\n",
       "Outlet_Establishment_Year    float64\n",
       "Outlet_Size                   object\n",
       "Outlet_Location_Type          object\n",
       "Outlet_Type                   object\n",
       "Item_Outlet_Sales            float64\n",
       "dtype: object"
      ]
     },
     "execution_count": 30,
     "metadata": {},
     "output_type": "execute_result"
    }
   ],
   "source": [
    "bigMart_data.dtypes"
   ]
  },
  {
   "cell_type": "markdown",
   "id": "67fbb3ac",
   "metadata": {},
   "source": [
    "### Plot the data \n",
    "There are many different plot types, for now we are simply plotting all the data using one line of code to make this happended."
   ]
  },
  {
   "cell_type": "code",
   "execution_count": 31,
   "id": "07f38564",
   "metadata": {},
   "outputs": [
    {
     "data": {
      "text/plain": [
       "<Axes: >"
      ]
     },
     "execution_count": 31,
     "metadata": {},
     "output_type": "execute_result"
    },
    {
     "data": {
      "image/png": "[encoded data removed]",
      "text/plain": [
       "<Figure size 1600x600 with 1 Axes>"
      ]
     },
     "metadata": {},
     "output_type": "display_data"
    }
   ],
   "source": [
    "# Set the width and height of the figure\n",
    "plt.figure(figsize=(16,6))\n",
    "\n",
    "# Line chart showing how FIFA rankings evolved over time \n",
    "sns.lineplot(data=bigMart_data)"
   ]
  },
  {
   "cell_type": "markdown",
   "id": "06d8e226",
   "metadata": {},
   "source": [
    "As the data is big therefore it is not quit well visible here\n",
    "### Heatmap\n",
    "We have one more plot type which is heatmaps"
   ]
  },
  {
   "cell_type": "code",
   "execution_count": 32,
   "id": "bd72ce1e",
   "metadata": {},
   "outputs": [
    {
     "ename": "ValueError",
     "evalue": "could not convert string to float: 'FDA15'",
     "output_type": "error",
     "traceback": [
      "\u001b[1;31m---------------------------------------------------------------------------\u001b[0m",
      "\u001b[1;31mValueError\u001b[0m                                Traceback (most recent call last)",
      "Cell \u001b[1;32mIn[32], line 8\u001b[0m\n\u001b[0;32m      5\u001b[0m plt\u001b[38;5;241m.\u001b[39mtitle(\u001b[38;5;124m\"\u001b[39m\u001b[38;5;124mHeatmap of the bigMart Collected Data.\u001b[39m\u001b[38;5;124m\"\u001b[39m)\n\u001b[0;32m      7\u001b[0m \u001b[38;5;66;03m# Heatmap showing average arrival delay for each airline by month\u001b[39;00m\n\u001b[1;32m----> 8\u001b[0m sns\u001b[38;5;241m.\u001b[39mheatmap(\u001b[43mbigMart_data\u001b[49m\u001b[38;5;241;43m.\u001b[39;49m\u001b[43mcorr\u001b[49m\u001b[43m(\u001b[49m\u001b[43m)\u001b[49m, cmap\u001b[38;5;241m=\u001b[39m\u001b[38;5;124m\"\u001b[39m\u001b[38;5;124mYlGnBu\u001b[39m\u001b[38;5;124m\"\u001b[39m, annot\u001b[38;5;241m=\u001b[39m\u001b[38;5;28;01mTrue\u001b[39;00m)\n\u001b[0;32m     10\u001b[0m \u001b[38;5;66;03m# Add label for horizontal axis\u001b[39;00m\n\u001b[0;32m     11\u001b[0m plt\u001b[38;5;241m.\u001b[39mxlabel(\u001b[38;5;124m\"\u001b[39m\u001b[38;5;124mX-Axis\u001b[39m\u001b[38;5;124m\"\u001b[39m)\n",
      "File \u001b[1;32mc:\\Users\\pc planet\\AppData\\Local\\Programs\\Python\\Python312\\Lib\\site-packages\\pandas\\core\\frame.py:11049\u001b[0m, in \u001b[0;36mDataFrame.corr\u001b[1;34m(self, method, min_periods, numeric_only)\u001b[0m\n\u001b[0;32m  11047\u001b[0m cols \u001b[38;5;241m=\u001b[39m data\u001b[38;5;241m.\u001b[39mcolumns\n\u001b[0;32m  11048\u001b[0m idx \u001b[38;5;241m=\u001b[39m cols\u001b[38;5;241m.\u001b[39mcopy()\n\u001b[1;32m> 11049\u001b[0m mat \u001b[38;5;241m=\u001b[39m \u001b[43mdata\u001b[49m\u001b[38;5;241;43m.\u001b[39;49m\u001b[43mto_numpy\u001b[49m\u001b[43m(\u001b[49m\u001b[43mdtype\u001b[49m\u001b[38;5;241;43m=\u001b[39;49m\u001b[38;5;28;43mfloat\u001b[39;49m\u001b[43m,\u001b[49m\u001b[43m \u001b[49m\u001b[43mna_value\u001b[49m\u001b[38;5;241;43m=\u001b[39;49m\u001b[43mnp\u001b[49m\u001b[38;5;241;43m.\u001b[39;49m\u001b[43mnan\u001b[49m\u001b[43m,\u001b[49m\u001b[43m \u001b[49m\u001b[43mcopy\u001b[49m\u001b[38;5;241;43m=\u001b[39;49m\u001b[38;5;28;43;01mFalse\u001b[39;49;00m\u001b[43m)\u001b[49m\n\u001b[0;32m  11051\u001b[0m \u001b[38;5;28;01mif\u001b[39;00m method \u001b[38;5;241m==\u001b[39m \u001b[38;5;124m\"\u001b[39m\u001b[38;5;124mpearson\u001b[39m\u001b[38;5;124m\"\u001b[39m:\n\u001b[0;32m  11052\u001b[0m     correl \u001b[38;5;241m=\u001b[39m libalgos\u001b[38;5;241m.\u001b[39mnancorr(mat, minp\u001b[38;5;241m=\u001b[39mmin_periods)\n",
      "File \u001b[1;32mc:\\Users\\pc planet\\AppData\\Local\\Programs\\Python\\Python312\\Lib\\site-packages\\pandas\\core\\frame.py:1993\u001b[0m, in \u001b[0;36mDataFrame.to_numpy\u001b[1;34m(self, dtype, copy, na_value)\u001b[0m\n\u001b[0;32m   1991\u001b[0m \u001b[38;5;28;01mif\u001b[39;00m dtype \u001b[38;5;129;01mis\u001b[39;00m \u001b[38;5;129;01mnot\u001b[39;00m \u001b[38;5;28;01mNone\u001b[39;00m:\n\u001b[0;32m   1992\u001b[0m     dtype \u001b[38;5;241m=\u001b[39m np\u001b[38;5;241m.\u001b[39mdtype(dtype)\n\u001b[1;32m-> 1993\u001b[0m result \u001b[38;5;241m=\u001b[39m \u001b[38;5;28;43mself\u001b[39;49m\u001b[38;5;241;43m.\u001b[39;49m\u001b[43m_mgr\u001b[49m\u001b[38;5;241;43m.\u001b[39;49m\u001b[43mas_array\u001b[49m\u001b[43m(\u001b[49m\u001b[43mdtype\u001b[49m\u001b[38;5;241;43m=\u001b[39;49m\u001b[43mdtype\u001b[49m\u001b[43m,\u001b[49m\u001b[43m \u001b[49m\u001b[43mcopy\u001b[49m\u001b[38;5;241;43m=\u001b[39;49m\u001b[43mcopy\u001b[49m\u001b[43m,\u001b[49m\u001b[43m \u001b[49m\u001b[43mna_value\u001b[49m\u001b[38;5;241;43m=\u001b[39;49m\u001b[43mna_value\u001b[49m\u001b[43m)\u001b[49m\n\u001b[0;32m   1994\u001b[0m \u001b[38;5;28;01mif\u001b[39;00m result\u001b[38;5;241m.\u001b[39mdtype \u001b[38;5;129;01mis\u001b[39;00m \u001b[38;5;129;01mnot\u001b[39;00m dtype:\n\u001b[0;32m   1995\u001b[0m     result \u001b[38;5;241m=\u001b[39m np\u001b[38;5;241m.\u001b[39masarray(result, dtype\u001b[38;5;241m=\u001b[39mdtype)\n",
      "File \u001b[1;32mc:\\Users\\pc planet\\AppData\\Local\\Programs\\Python\\Python312\\Lib\\site-packages\\pandas\\core\\internals\\managers.py:1694\u001b[0m, in \u001b[0;36mBlockManager.as_array\u001b[1;34m(self, dtype, copy, na_value)\u001b[0m\n\u001b[0;32m   1692\u001b[0m         arr\u001b[38;5;241m.\u001b[39mflags\u001b[38;5;241m.\u001b[39mwriteable \u001b[38;5;241m=\u001b[39m \u001b[38;5;28;01mFalse\u001b[39;00m\n\u001b[0;32m   1693\u001b[0m \u001b[38;5;28;01melse\u001b[39;00m:\n\u001b[1;32m-> 1694\u001b[0m     arr \u001b[38;5;241m=\u001b[39m \u001b[38;5;28;43mself\u001b[39;49m\u001b[38;5;241;43m.\u001b[39;49m\u001b[43m_interleave\u001b[49m\u001b[43m(\u001b[49m\u001b[43mdtype\u001b[49m\u001b[38;5;241;43m=\u001b[39;49m\u001b[43mdtype\u001b[49m\u001b[43m,\u001b[49m\u001b[43m \u001b[49m\u001b[43mna_value\u001b[49m\u001b[38;5;241;43m=\u001b[39;49m\u001b[43mna_value\u001b[49m\u001b[43m)\u001b[49m\n\u001b[0;32m   1695\u001b[0m     \u001b[38;5;66;03m# The underlying data was copied within _interleave, so no need\u001b[39;00m\n\u001b[0;32m   1696\u001b[0m     \u001b[38;5;66;03m# to further copy if copy=True or setting na_value\u001b[39;00m\n\u001b[0;32m   1698\u001b[0m \u001b[38;5;28;01mif\u001b[39;00m na_value \u001b[38;5;129;01mis\u001b[39;00m lib\u001b[38;5;241m.\u001b[39mno_default:\n",
      "File \u001b[1;32mc:\\Users\\pc planet\\AppData\\Local\\Programs\\Python\\Python312\\Lib\\site-packages\\pandas\\core\\internals\\managers.py:1753\u001b[0m, in \u001b[0;36mBlockManager._interleave\u001b[1;34m(self, dtype, na_value)\u001b[0m\n\u001b[0;32m   1751\u001b[0m     \u001b[38;5;28;01melse\u001b[39;00m:\n\u001b[0;32m   1752\u001b[0m         arr \u001b[38;5;241m=\u001b[39m blk\u001b[38;5;241m.\u001b[39mget_values(dtype)\n\u001b[1;32m-> 1753\u001b[0m     \u001b[43mresult\u001b[49m\u001b[43m[\u001b[49m\u001b[43mrl\u001b[49m\u001b[38;5;241;43m.\u001b[39;49m\u001b[43mindexer\u001b[49m\u001b[43m]\u001b[49m \u001b[38;5;241m=\u001b[39m arr\n\u001b[0;32m   1754\u001b[0m     itemmask[rl\u001b[38;5;241m.\u001b[39mindexer] \u001b[38;5;241m=\u001b[39m \u001b[38;5;241m1\u001b[39m\n\u001b[0;32m   1756\u001b[0m \u001b[38;5;28;01mif\u001b[39;00m \u001b[38;5;129;01mnot\u001b[39;00m itemmask\u001b[38;5;241m.\u001b[39mall():\n",
      "\u001b[1;31mValueError\u001b[0m: could not convert string to float: 'FDA15'"
     ]
    },
    {
     "data": {
      "image/png": "[encoded data removed]",
      "text/plain": [
       "<Figure size 640x480 with 1 Axes>"
      ]
     },
     "metadata": {},
     "output_type": "display_data"
    }
   ],
   "source": [
    "# Set the width and height of the figure\n",
    "# plt.figure(figsize=(14,7))\n",
    "\n",
    "# Add title\n",
    "plt.title(\"Heatmap of the bigMart Collected Data.\")\n",
    "\n",
    "# Heatmap showing average arrival delay for each airline by month\n",
    "sns.heatmap(bigMart_data.corr(), cmap=\"YlGnBu\", annot=True)\n",
    "\n",
    "# Add label for horizontal axis\n",
    "plt.xlabel(\"X-Axis\")"
   ]
  },
  {
   "cell_type": "markdown",
   "id": "c3d3af4a",
   "metadata": {},
   "source": [
    "### Data Visulization Using Count Plots"
   ]
  },
  {
   "cell_type": "markdown",
   "id": "6f8ead16",
   "metadata": {},
   "source": [
    "Show the counts of observations in each categorical bin using bars.\n",
    "\n",
    "A count plot can be thought of as a histogram across a categorical, instead of quantitative, variable. The basic API and options are identical to those for barplot(), so you can compare counts across nested variables.\n",
    "\n",
    "Input data can be passed in a variety of formats, including:\n",
    "\n",
    "* Vectors of data represented as lists, numpy arrays, or pandas Series objects passed directly to the x, y, and/or hue parameters.\n",
    "\n",
    "* A “long-form” DataFrame, in which case the x, y, and hue variables will determine how the data are plotted.\n",
    "\n",
    "* A “wide-form” DataFrame, such that each numeric column will be plotted.\n",
    "\n",
    "* An array or list of vectors."
   ]
  },
  {
   "cell_type": "markdown",
   "id": "0902b986",
   "metadata": {},
   "source": [
    "#### Count Plot of \"Item_Fat_Content\""
   ]
  },
  {
   "cell_type": "code",
   "execution_count": 33,
   "id": "4c351bf0",
   "metadata": {},
   "outputs": [
    {
     "data": {
      "text/plain": [
       "<Axes: xlabel='Item_Fat_Content', ylabel='count'>"
      ]
     },
     "execution_count": 33,
     "metadata": {},
     "output_type": "execute_result"
    },
    {
     "data": {
      "image/png": "[encoded data removed]",
      "text/plain": [
       "<Figure size 640x480 with 1 Axes>"
      ]
     },
     "metadata": {},
     "output_type": "display_data"
    }
   ],
   "source": [
    "sns.countplot(x='Item_Fat_Content',data=bigMart_data)"
   ]
  },
  {
   "cell_type": "markdown",
   "id": "27f54531",
   "metadata": {},
   "source": [
    "#### Count Plot of \"Outlet_Size\""
   ]
  },
  {
   "cell_type": "code",
   "execution_count": 34,
   "id": "b75ea508",
   "metadata": {},
   "outputs": [
    {
     "data": {
      "text/plain": [
       "<Axes: xlabel='Outlet_Size', ylabel='count'>"
      ]
     },
     "execution_count": 34,
     "metadata": {},
     "output_type": "execute_result"
    },
    {
     "data": {
      "image/png": "[encoded data removed]",
      "text/plain": [
       "<Figure size 640x480 with 1 Axes>"
      ]
     },
     "metadata": {},
     "output_type": "display_data"
    }
   ],
   "source": [
    "sns.countplot(x='Outlet_Size',data=bigMart_data)"
   ]
  },
  {
   "cell_type": "markdown",
   "id": "bae0abf5",
   "metadata": {},
   "source": [
    "#### Count Plot of \"Outlet_Type\""
   ]
  },
  {
   "cell_type": "code",
   "execution_count": 35,
   "id": "53d172ad",
   "metadata": {},
   "outputs": [
    {
     "data": {
      "text/plain": [
       "<Axes: xlabel='Outlet_Type', ylabel='count'>"
      ]
     },
     "execution_count": 35,
     "metadata": {},
     "output_type": "execute_result"
    },
    {
     "data": {
      "image/png": "[encoded data removed]",
      "text/plain": [
       "<Figure size 640x480 with 1 Axes>"
      ]
     },
     "metadata": {},
     "output_type": "display_data"
    }
   ],
   "source": [
    "sns.countplot(x='Outlet_Type',data=bigMart_data)"
   ]
  },
  {
   "cell_type": "markdown",
   "id": "7c08124a",
   "metadata": {},
   "source": [
    "#### Box Plot of \"Item_Weight\"\n",
    "Draw a box plot to show distributions with respect to categories.\n",
    "\n",
    "A box plot (or box-and-whisker plot) shows the distribution of quantitative data in a way that facilitates comparisons between variables or across levels of a categorical variable. The box shows the quartiles of the dataset while the whiskers extend to show the rest of the distribution, except for points that are determined to be “outliers” using a method that is a function of the inter-quartile range."
   ]
  },
  {
   "cell_type": "code",
   "execution_count": 36,
   "id": "e85f6192",
   "metadata": {},
   "outputs": [
    {
     "data": {
      "text/plain": [
       "<Axes: xlabel='Item_Weight'>"
      ]
     },
     "execution_count": 36,
     "metadata": {},
     "output_type": "execute_result"
    },
    {
     "data": {
      "image/png": "[encoded data removed]",
      "text/plain": [
       "<Figure size 640x480 with 1 Axes>"
      ]
     },
     "metadata": {},
     "output_type": "display_data"
    }
   ],
   "source": [
    "sns.boxplot(x='Item_Weight' ,data=bigMart_data)"
   ]
  },
  {
   "cell_type": "markdown",
   "id": "b8a8632a",
   "metadata": {},
   "source": [
    "#### Histogram Plot of \"Item_Outlet_Sales\"\n",
    "Plot univariate or bivariate histograms to show distributions of datasets.\n",
    "\n",
    "A histogram is a classic visualization tool that represents the distribution of one or more variables by counting the number of observations that fall within disrete bins.\n",
    "\n",
    "This function can normalize the statistic computed within each bin to estimate frequency, density or probability mass, and it can add a smooth curve obtained using a kernel density estimate, similar to kdeplot()."
   ]
  },
  {
   "cell_type": "code",
   "execution_count": 37,
   "id": "75daab92",
   "metadata": {},
   "outputs": [
    {
     "data": {
      "text/plain": [
       "<Axes: xlabel='Item_Outlet_Sales', ylabel='Count'>"
      ]
     },
     "execution_count": 37,
     "metadata": {},
     "output_type": "execute_result"
    },
    {
     "data": {
      "image/png": "[encoded data removed]",
      "text/plain": [
       "<Figure size 640x480 with 1 Axes>"
      ]
     },
     "metadata": {},
     "output_type": "display_data"
    }
   ],
   "source": [
    "sns.histplot(x='Item_Outlet_Sales',data=bigMart_data)"
   ]
  },
  {
   "cell_type": "markdown",
   "id": "deb4f5d3",
   "metadata": {},
   "source": [
    "### Bivariate Analysis\n",
    "Bivariate analysis is a kind of statistical analysis when two variables are observed against each other. One of the variables will be dependent and the other is independent. The variables are denoted by X and Y. The changes are analyzed between the two variables to understand to what extent the change has occurred."
   ]
  },
  {
   "cell_type": "markdown",
   "id": "f45695ee",
   "metadata": {},
   "source": [
    "#### Bivariate Analysis Between 'Item_MRP' and 'Item_Outlet_Sales'"
   ]
  },
  {
   "cell_type": "code",
   "execution_count": 38,
   "id": "9a47f7b1",
   "metadata": {},
   "outputs": [
    {
     "data": {
      "text/plain": [
       "<Axes: xlabel='Item_MRP', ylabel='Item_Outlet_Sales'>"
      ]
     },
     "execution_count": 38,
     "metadata": {},
     "output_type": "execute_result"
    },
    {
     "data": {
      "image/png": "[encoded data removed]",
      "text/plain": [
       "<Figure size 640x480 with 1 Axes>"
      ]
     },
     "metadata": {},
     "output_type": "display_data"
    }
   ],
   "source": [
    "sns.regplot(x='Item_MRP',y='Item_Outlet_Sales',data=bigMart_data)"
   ]
  },
  {
   "cell_type": "markdown",
   "id": "aae38aba",
   "metadata": {},
   "source": [
    "#### Bivariate Analysis Between 'Outlet_Establishment_Year' and 'Item_Outlet_Sales'"
   ]
  },
  {
   "cell_type": "code",
   "execution_count": 40,
   "id": "2d48f65f",
   "metadata": {},
   "outputs": [
    {
     "data": {
      "text/plain": [
       "<Axes: xlabel='Outlet_Establishment_Year', ylabel='Item_Outlet_Sales'>"
      ]
     },
     "execution_count": 40,
     "metadata": {},
     "output_type": "execute_result"
    },
    {
     "data": {
      "image/png": "[encoded data removed]",
      "text/plain": [
       "<Figure size 640x480 with 1 Axes>"
      ]
     },
     "metadata": {},
     "output_type": "display_data"
    }
   ],
   "source": [
    "sns.regplot(x='Outlet_Establishment_Year',y='Item_Outlet_Sales',data=bigMart_data)"
   ]
  },
  {
   "cell_type": "markdown",
   "id": "639d7a19",
   "metadata": {},
   "source": [
    "#### Bivariate Analysis Between 'Outlet_Type' and 'Item_Outlet_Sales'"
   ]
  },
  {
   "cell_type": "code",
   "execution_count": 33,
   "id": "9689cb4f",
   "metadata": {},
   "outputs": [
    {
     "data": {
      "text/plain": [
       "<AxesSubplot:xlabel='Outlet_Type', ylabel='Item_Outlet_Sales'>"
      ]
     },
     "execution_count": 33,
     "metadata": {},
     "output_type": "execute_result"
    },
    {
     "data": {
      "image/png": "[encoded data removed]",
      "text/plain": [
       "<Figure size 640x480 with 1 Axes>"
      ]
     },
     "metadata": {},
     "output_type": "display_data"
    }
   ],
   "source": [
    "sns.boxplot(x='Outlet_Type',y='Item_Outlet_Sales',data=bigMart_data)"
   ]
  },
  {
   "cell_type": "markdown",
   "id": "cf99d78e",
   "metadata": {},
   "source": [
    "#### Bivariate Analysis Between 'Item_Visibility' and 'Item_Outlet_Sales'"
   ]
  },
  {
   "cell_type": "code",
   "execution_count": 34,
   "id": "c35cc811",
   "metadata": {},
   "outputs": [
    {
     "data": {
      "text/plain": [
       "<AxesSubplot:xlabel='Item_Visibility', ylabel='Item_Outlet_Sales'>"
      ]
     },
     "execution_count": 34,
     "metadata": {},
     "output_type": "execute_result"
    },
    {
     "data": {
      "image/png": "[encoded data removed]",
      "text/plain": [
       "<Figure size 640x480 with 1 Axes>"
      ]
     },
     "metadata": {},
     "output_type": "display_data"
    }
   ],
   "source": [
    "sns.regplot(x='Item_Visibility',y='Item_Outlet_Sales',data=bigMart_data)"
   ]
  },
  {
   "cell_type": "markdown",
   "id": "f631f9ba",
   "metadata": {},
   "source": [
    "#### Bivariate Analysis Between 'Outlet_Size' and 'Item_Outlet_Sales'"
   ]
  },
  {
   "cell_type": "code",
   "execution_count": 35,
   "id": "3a5772c1",
   "metadata": {},
   "outputs": [
    {
     "data": {
      "text/plain": [
       "<AxesSubplot:xlabel='Outlet_Size', ylabel='Item_Outlet_Sales'>"
      ]
     },
     "execution_count": 35,
     "metadata": {},
     "output_type": "execute_result"
    },
    {
     "data": {
      "image/png": "[encoded data removed]",
      "text/plain": [
       "<Figure size 640x480 with 1 Axes>"
      ]
     },
     "metadata": {},
     "output_type": "display_data"
    }
   ],
   "source": [
    "sns.boxplot(x='Outlet_Size',y='Item_Outlet_Sales',data=bigMart_data)"
   ]
  },
  {
   "cell_type": "markdown",
   "id": "368b1bbb",
   "metadata": {},
   "source": [
    "## Converting Categorical To Numerical\n",
    "In many practical Data Science activities, the data set will contain categorical variables. These variables are typically stored as text values which represent various traits. Some examples include color (“Red”, “Yellow”, “Blue”), size (“Small”, “Medium”, “Large”) or geographic designations (State or Country). Regardless of what the value is used for, the challenge is determining how to use this data in the analysis. Many machine learning algorithms can support categorical values without further manipulation but there are many more algorithms that do not. Therefore, the analyst is faced with the challenge of figuring out how to turn these text attributes into numerical values for further processing.\n",
    "\n",
    "As with many other aspects of the Data Science world, there is no single answer on how to approach this problem. Each approach has trade-offs and has potential impact on the outcome of the analysis. Fortunately, the python tools of pandas and scikit-learn provide several approaches that can be applied to transform the categorical data into suitable numeric values. This article will be a survey of some of the various common (and a few more complex) approaches in the hope that it will help others apply these techniques to their real world problems.\n",
    "\n",
    "In the given code. We are just seeing the types of different column of the bigMart_data set."
   ]
  },
  {
   "cell_type": "code",
   "execution_count": 41,
   "id": "2615fbe2",
   "metadata": {},
   "outputs": [
    {
     "data": {
      "text/plain": [
       "Item_Identifier               object\n",
       "Item_Weight                  float64\n",
       "Item_Fat_Content              object\n",
       "Item_Visibility              float64\n",
       "Item_Type                     object\n",
       "Item_MRP                     float64\n",
       "Outlet_Identifier             object\n",
       "Outlet_Establishment_Year    float64\n",
       "Outlet_Size                   object\n",
       "Outlet_Location_Type          object\n",
       "Outlet_Type                   object\n",
       "Item_Outlet_Sales            float64\n",
       "dtype: object"
      ]
     },
     "execution_count": 41,
     "metadata": {},
     "output_type": "execute_result"
    }
   ],
   "source": [
    "bigMart_data.dtypes"
   ]
  },
  {
   "cell_type": "markdown",
   "id": "e0c74b4e",
   "metadata": {},
   "source": [
    "Since we are only focus on encoding the categorical variables, we are going to include only the object columns in our dataframe. Pandas has a helpful select_dtypes function which we can use to build a new dataframe containing only the object columns."
   ]
  },
  {
   "cell_type": "code",
   "execution_count": 42,
   "id": "64c4419b",
   "metadata": {},
   "outputs": [
    {
     "data": {
      "text/html": [
       "<div>\n",
       "<style scoped>\n",
       "    .dataframe tbody tr th:only-of-type {\n",
       "        vertical-align: middle;\n",
       "    }\n",
       "\n",
       "    .dataframe tbody tr th {\n",
       "        vertical-align: top;\n",
       "    }\n",
       "\n",
       "    .dataframe thead th {\n",
       "        text-align: right;\n",
       "    }\n",
       "</style>\n",
       "<table border=\"1\" class=\"dataframe\">\n",
       "  <thead>\n",
       "    <tr style=\"text-align: right;\">\n",
       "      <th></th>\n",
       "      <th>Item_Identifier</th>\n",
       "      <th>Item_Fat_Content</th>\n",
       "      <th>Item_Type</th>\n",
       "      <th>Outlet_Identifier</th>\n",
       "      <th>Outlet_Size</th>\n",
       "      <th>Outlet_Location_Type</th>\n",
       "      <th>Outlet_Type</th>\n",
       "    </tr>\n",
       "  </thead>\n",
       "  <tbody>\n",
       "    <tr>\n",
       "      <th>0</th>\n",
       "      <td>FDA15</td>\n",
       "      <td>Low Fat</td>\n",
       "      <td>Dairy</td>\n",
       "      <td>OUT049</td>\n",
       "      <td>Medium</td>\n",
       "      <td>Tier 1</td>\n",
       "      <td>Supermarket Type1</td>\n",
       "    </tr>\n",
       "    <tr>\n",
       "      <th>1</th>\n",
       "      <td>DRC01</td>\n",
       "      <td>Regular</td>\n",
       "      <td>Soft Drinks</td>\n",
       "      <td>OUT018</td>\n",
       "      <td>Medium</td>\n",
       "      <td>Tier 3</td>\n",
       "      <td>Supermarket Type2</td>\n",
       "    </tr>\n",
       "    <tr>\n",
       "      <th>2</th>\n",
       "      <td>FDN15</td>\n",
       "      <td>Low Fat</td>\n",
       "      <td>Meat</td>\n",
       "      <td>OUT049</td>\n",
       "      <td>Medium</td>\n",
       "      <td>Tier 1</td>\n",
       "      <td>Supermarket Type1</td>\n",
       "    </tr>\n",
       "    <tr>\n",
       "      <th>3</th>\n",
       "      <td>FDX07</td>\n",
       "      <td>Regular</td>\n",
       "      <td>Fruits and Vegetables</td>\n",
       "      <td>OUT010</td>\n",
       "      <td>Medium</td>\n",
       "      <td>Tier 3</td>\n",
       "      <td>Grocery Store</td>\n",
       "    </tr>\n",
       "    <tr>\n",
       "      <th>4</th>\n",
       "      <td>NCD19</td>\n",
       "      <td>Low Fat</td>\n",
       "      <td>Household</td>\n",
       "      <td>OUT013</td>\n",
       "      <td>High</td>\n",
       "      <td>Tier 3</td>\n",
       "      <td>Supermarket Type1</td>\n",
       "    </tr>\n",
       "  </tbody>\n",
       "</table>\n",
       "</div>"
      ],
      "text/plain": [
       "  Item_Identifier Item_Fat_Content              Item_Type Outlet_Identifier  \\\n",
       "0           FDA15          Low Fat                  Dairy            OUT049   \n",
       "1           DRC01          Regular            Soft Drinks            OUT018   \n",
       "2           FDN15          Low Fat                   Meat            OUT049   \n",
       "3           FDX07          Regular  Fruits and Vegetables            OUT010   \n",
       "4           NCD19          Low Fat              Household            OUT013   \n",
       "\n",
       "  Outlet_Size Outlet_Location_Type        Outlet_Type  \n",
       "0      Medium               Tier 1  Supermarket Type1  \n",
       "1      Medium               Tier 3  Supermarket Type2  \n",
       "2      Medium               Tier 1  Supermarket Type1  \n",
       "3      Medium               Tier 3      Grocery Store  \n",
       "4        High               Tier 3  Supermarket Type1  "
      ]
     },
     "execution_count": 42,
     "metadata": {},
     "output_type": "execute_result"
    }
   ],
   "source": [
    "obj_df = bigMart_data.select_dtypes(include=['object']).copy()\n",
    "obj_df.head()"
   ]
  },
  {
   "cell_type": "markdown",
   "id": "884e5ad6",
   "metadata": {},
   "source": [
    "I've tried doing different operation to convert them togather but I wasn't able to do that, therefore I am not using above obj_df but not deleting the line too as it may be helpful in some other thing."
   ]
  },
  {
   "cell_type": "markdown",
   "id": "834643e3",
   "metadata": {},
   "source": [
    "This method is useful for obtaining a numeric representation of an array when all that matters is identifying distinct values. factorize is available as both a top-level function pandas.factorize(), and as a method Series.factorize() and Index.factorize()."
   ]
  },
  {
   "cell_type": "code",
   "execution_count": 43,
   "id": "fe689b1d",
   "metadata": {},
   "outputs": [
    {
     "data": {
      "text/html": [
       "<div>\n",
       "<style scoped>\n",
       "    .dataframe tbody tr th:only-of-type {\n",
       "        vertical-align: middle;\n",
       "    }\n",
       "\n",
       "    .dataframe tbody tr th {\n",
       "        vertical-align: top;\n",
       "    }\n",
       "\n",
       "    .dataframe thead th {\n",
       "        text-align: right;\n",
       "    }\n",
       "</style>\n",
       "<table border=\"1\" class=\"dataframe\">\n",
       "  <thead>\n",
       "    <tr style=\"text-align: right;\">\n",
       "      <th></th>\n",
       "      <th>Item_Identifier</th>\n",
       "      <th>Item_Weight</th>\n",
       "      <th>Item_Fat_Content</th>\n",
       "      <th>Item_Visibility</th>\n",
       "      <th>Item_Type</th>\n",
       "      <th>Item_MRP</th>\n",
       "      <th>Outlet_Identifier</th>\n",
       "      <th>Outlet_Establishment_Year</th>\n",
       "      <th>Outlet_Size</th>\n",
       "      <th>Outlet_Location_Type</th>\n",
       "      <th>Outlet_Type</th>\n",
       "      <th>Item_Outlet_Sales</th>\n",
       "    </tr>\n",
       "  </thead>\n",
       "  <tbody>\n",
       "    <tr>\n",
       "      <th>0</th>\n",
       "      <td>0</td>\n",
       "      <td>-0.766539</td>\n",
       "      <td>0</td>\n",
       "      <td>-1.011166</td>\n",
       "      <td>0</td>\n",
       "      <td>1.747454</td>\n",
       "      <td>0</td>\n",
       "      <td>0.139541</td>\n",
       "      <td>0</td>\n",
       "      <td>0</td>\n",
       "      <td>0</td>\n",
       "      <td>0.910601</td>\n",
       "    </tr>\n",
       "    <tr>\n",
       "      <th>1</th>\n",
       "      <td>1</td>\n",
       "      <td>-1.496443</td>\n",
       "      <td>1</td>\n",
       "      <td>-0.944744</td>\n",
       "      <td>1</td>\n",
       "      <td>-1.489023</td>\n",
       "      <td>1</td>\n",
       "      <td>1.334103</td>\n",
       "      <td>0</td>\n",
       "      <td>1</td>\n",
       "      <td>1</td>\n",
       "      <td>-1.018440</td>\n",
       "    </tr>\n",
       "    <tr>\n",
       "      <th>2</th>\n",
       "      <td>2</td>\n",
       "      <td>1.004233</td>\n",
       "      <td>0</td>\n",
       "      <td>-0.996512</td>\n",
       "      <td>2</td>\n",
       "      <td>0.010040</td>\n",
       "      <td>0</td>\n",
       "      <td>0.139541</td>\n",
       "      <td>0</td>\n",
       "      <td>0</td>\n",
       "      <td>0</td>\n",
       "      <td>-0.049238</td>\n",
       "    </tr>\n",
       "    <tr>\n",
       "      <th>3</th>\n",
       "      <td>3</td>\n",
       "      <td>1.371344</td>\n",
       "      <td>1</td>\n",
       "      <td>-1.341070</td>\n",
       "      <td>3</td>\n",
       "      <td>0.660050</td>\n",
       "      <td>2</td>\n",
       "      <td>0.020085</td>\n",
       "      <td>0</td>\n",
       "      <td>1</td>\n",
       "      <td>2</td>\n",
       "      <td>-0.849103</td>\n",
       "    </tr>\n",
       "    <tr>\n",
       "      <th>4</th>\n",
       "      <td>4</td>\n",
       "      <td>-0.846440</td>\n",
       "      <td>0</td>\n",
       "      <td>-1.341070</td>\n",
       "      <td>4</td>\n",
       "      <td>-1.399220</td>\n",
       "      <td>3</td>\n",
       "      <td>-1.293934</td>\n",
       "      <td>1</td>\n",
       "      <td>1</td>\n",
       "      <td>0</td>\n",
       "      <td>-0.695373</td>\n",
       "    </tr>\n",
       "  </tbody>\n",
       "</table>\n",
       "</div>"
      ],
      "text/plain": [
       "   Item_Identifier  Item_Weight  Item_Fat_Content  Item_Visibility  Item_Type  \\\n",
       "0                0    -0.766539                 0        -1.011166          0   \n",
       "1                1    -1.496443                 1        -0.944744          1   \n",
       "2                2     1.004233                 0        -0.996512          2   \n",
       "3                3     1.371344                 1        -1.341070          3   \n",
       "4                4    -0.846440                 0        -1.341070          4   \n",
       "\n",
       "   Item_MRP  Outlet_Identifier  Outlet_Establishment_Year  Outlet_Size  \\\n",
       "0  1.747454                  0                   0.139541            0   \n",
       "1 -1.489023                  1                   1.334103            0   \n",
       "2  0.010040                  0                   0.139541            0   \n",
       "3  0.660050                  2                   0.020085            0   \n",
       "4 -1.399220                  3                  -1.293934            1   \n",
       "\n",
       "   Outlet_Location_Type  Outlet_Type  Item_Outlet_Sales  \n",
       "0                     0            0           0.910601  \n",
       "1                     1            1          -1.018440  \n",
       "2                     0            0          -0.049238  \n",
       "3                     1            2          -0.849103  \n",
       "4                     1            0          -0.695373  "
      ]
     },
     "execution_count": 43,
     "metadata": {},
     "output_type": "execute_result"
    }
   ],
   "source": [
    "bigMart_data['Item_Fat_Content']=pd.factorize(bigMart_data.Item_Fat_Content)[0]\n",
    "bigMart_data['Item_Type']=pd.factorize(bigMart_data.Item_Type)[0]\n",
    "bigMart_data['Item_Identifier']=pd.factorize(bigMart_data.Item_Identifier)[0]\n",
    "bigMart_data['Outlet_Identifier']=pd.factorize(bigMart_data.Outlet_Identifier)[0]\n",
    "bigMart_data['Outlet_Size']=pd.factorize(bigMart_data.Outlet_Size)[0]\n",
    "bigMart_data['Outlet_Location_Type']=pd.factorize(bigMart_data.Outlet_Location_Type)[0]\n",
    "bigMart_data['Outlet_Type']=pd.factorize(bigMart_data.Outlet_Type)[0]\n",
    "\n",
    "bigMart_data.head()\n"
   ]
  },
  {
   "cell_type": "markdown",
   "id": "879d0a17",
   "metadata": {},
   "source": [
    "Machine learning models follow a simple rule: whatever goes in, comes out. If we put garbage into our model, we can expect the output to be garbage too. In this case, garbage refers to noise in our data.\n",
    "\n",
    "To train a model, we collect enormous quantities of data to help the machine learn better. Usually, a good portion of the data collected is noise, while some of the columns of our dataset might not contribute significantly to the performance of our model. Further, having a lot of data can slow down the training process and cause the model to be slower. The model may also learn from this irrelevant data and be inaccurate."
   ]
  },
  {
   "cell_type": "code",
   "execution_count": 44,
   "id": "86ed6ab5",
   "metadata": {},
   "outputs": [
    {
     "data": {
      "text/html": [
       "<div>\n",
       "<style scoped>\n",
       "    .dataframe tbody tr th:only-of-type {\n",
       "        vertical-align: middle;\n",
       "    }\n",
       "\n",
       "    .dataframe tbody tr th {\n",
       "        vertical-align: top;\n",
       "    }\n",
       "\n",
       "    .dataframe thead th {\n",
       "        text-align: right;\n",
       "    }\n",
       "</style>\n",
       "<table border=\"1\" class=\"dataframe\">\n",
       "  <thead>\n",
       "    <tr style=\"text-align: right;\">\n",
       "      <th></th>\n",
       "      <th>Item_Weight</th>\n",
       "      <th>Item_Fat_Content</th>\n",
       "      <th>Item_Visibility</th>\n",
       "      <th>Item_Type</th>\n",
       "      <th>Item_MRP</th>\n",
       "      <th>Outlet_Establishment_Year</th>\n",
       "      <th>Outlet_Size</th>\n",
       "      <th>Outlet_Location_Type</th>\n",
       "      <th>Outlet_Type</th>\n",
       "      <th>Item_Outlet_Sales</th>\n",
       "    </tr>\n",
       "  </thead>\n",
       "  <tbody>\n",
       "    <tr>\n",
       "      <th>0</th>\n",
       "      <td>-0.766539</td>\n",
       "      <td>0</td>\n",
       "      <td>-1.011166</td>\n",
       "      <td>0</td>\n",
       "      <td>1.747454</td>\n",
       "      <td>0.139541</td>\n",
       "      <td>0</td>\n",
       "      <td>0</td>\n",
       "      <td>0</td>\n",
       "      <td>0.910601</td>\n",
       "    </tr>\n",
       "    <tr>\n",
       "      <th>1</th>\n",
       "      <td>-1.496443</td>\n",
       "      <td>1</td>\n",
       "      <td>-0.944744</td>\n",
       "      <td>1</td>\n",
       "      <td>-1.489023</td>\n",
       "      <td>1.334103</td>\n",
       "      <td>0</td>\n",
       "      <td>1</td>\n",
       "      <td>1</td>\n",
       "      <td>-1.018440</td>\n",
       "    </tr>\n",
       "    <tr>\n",
       "      <th>2</th>\n",
       "      <td>1.004233</td>\n",
       "      <td>0</td>\n",
       "      <td>-0.996512</td>\n",
       "      <td>2</td>\n",
       "      <td>0.010040</td>\n",
       "      <td>0.139541</td>\n",
       "      <td>0</td>\n",
       "      <td>0</td>\n",
       "      <td>0</td>\n",
       "      <td>-0.049238</td>\n",
       "    </tr>\n",
       "    <tr>\n",
       "      <th>3</th>\n",
       "      <td>1.371344</td>\n",
       "      <td>1</td>\n",
       "      <td>-1.341070</td>\n",
       "      <td>3</td>\n",
       "      <td>0.660050</td>\n",
       "      <td>0.020085</td>\n",
       "      <td>0</td>\n",
       "      <td>1</td>\n",
       "      <td>2</td>\n",
       "      <td>-0.849103</td>\n",
       "    </tr>\n",
       "    <tr>\n",
       "      <th>4</th>\n",
       "      <td>-0.846440</td>\n",
       "      <td>0</td>\n",
       "      <td>-1.341070</td>\n",
       "      <td>4</td>\n",
       "      <td>-1.399220</td>\n",
       "      <td>-1.293934</td>\n",
       "      <td>1</td>\n",
       "      <td>1</td>\n",
       "      <td>0</td>\n",
       "      <td>-0.695373</td>\n",
       "    </tr>\n",
       "  </tbody>\n",
       "</table>\n",
       "</div>"
      ],
      "text/plain": [
       "   Item_Weight  Item_Fat_Content  Item_Visibility  Item_Type  Item_MRP  \\\n",
       "0    -0.766539                 0        -1.011166          0  1.747454   \n",
       "1    -1.496443                 1        -0.944744          1 -1.489023   \n",
       "2     1.004233                 0        -0.996512          2  0.010040   \n",
       "3     1.371344                 1        -1.341070          3  0.660050   \n",
       "4    -0.846440                 0        -1.341070          4 -1.399220   \n",
       "\n",
       "   Outlet_Establishment_Year  Outlet_Size  Outlet_Location_Type  Outlet_Type  \\\n",
       "0                   0.139541            0                     0            0   \n",
       "1                   1.334103            0                     1            1   \n",
       "2                   0.139541            0                     0            0   \n",
       "3                   0.020085            0                     1            2   \n",
       "4                  -1.293934            1                     1            0   \n",
       "\n",
       "   Item_Outlet_Sales  \n",
       "0           0.910601  \n",
       "1          -1.018440  \n",
       "2          -0.049238  \n",
       "3          -0.849103  \n",
       "4          -0.695373  "
      ]
     },
     "execution_count": 44,
     "metadata": {},
     "output_type": "execute_result"
    }
   ],
   "source": [
    "bigMart_data=bigMart_data.drop(\"Item_Identifier\", axis='columns')\n",
    "bigMart_data=bigMart_data.drop(\"Outlet_Identifier\", axis='columns')\n",
    "#bigMart_data=bigMart_data.drop(\"Outlet_Establishment_Year\", axis='columns')\n",
    "#bigMart_data=bigMart_data.drop(\"Item_Visibility\", axis='columns')\n",
    "\n",
    "bigMart_data.head()"
   ]
  },
  {
   "cell_type": "markdown",
   "id": "fbc6e036",
   "metadata": {},
   "source": [
    "## Seperating Training And Test Data\n",
    "Let's seperate our training data set in training and testing data"
   ]
  },
  {
   "cell_type": "code",
   "execution_count": 45,
   "id": "980df6a9",
   "metadata": {},
   "outputs": [
    {
     "name": "stdout",
     "output_type": "stream",
     "text": [
      "(5966, 9) (5966, 1)\n",
      "(2557, 9) (2557, 1)\n"
     ]
    }
   ],
   "source": [
    "from sklearn.model_selection import train_test_split\n",
    "\n",
    "X = bigMart_data.drop(labels = 'Item_Outlet_Sales' , axis = 1)\n",
    "y = bigMart_data[['Item_Outlet_Sales']]\n",
    "\n",
    "# split data into training and validation data, for both features and target\n",
    "# The split is based on a random number generator. Supplying a numeric value to\n",
    "# the random_state argument guarantees we get the same split every time we\n",
    "# run this script.\n",
    "xtrain,xtest,ytrain,ytest=train_test_split(X,y,test_size=0.3,random_state=42)\n",
    "print(xtrain.shape,ytrain.shape)\n",
    "print(xtest.shape,ytest.shape)"
   ]
  },
  {
   "cell_type": "code",
   "execution_count": null,
   "id": "51822b34",
   "metadata": {},
   "outputs": [],
   "source": []
  },
  {
   "cell_type": "markdown",
   "id": "150e95ff",
   "metadata": {},
   "source": [
    "## Running The Models\n",
    "### Linear Regression\n",
    "Let’s try to implement the linear regression model"
   ]
  },
  {
   "cell_type": "markdown",
   "id": "0c2b6404",
   "metadata": {},
   "source": [
    "#### Implementing Linear Regression Using sklearn"
   ]
  },
  {
   "cell_type": "code",
   "execution_count": 47,
   "id": "c2c07db1",
   "metadata": {},
   "outputs": [
    {
     "name": "stdout",
     "output_type": "stream",
     "text": [
      "Mean Squared Error :  0.5964428495200192\n",
      "Mean Absolute Error :  0.5847967575018236\n",
      "Y-intercept : [0.02969657]\n",
      "Slope : [[-0.00729419  0.00454788 -0.1056461   0.0029852   0.57316506 -0.19846496\n",
      "  -0.21020857  0.21213938 -0.10089016]]\n"
     ]
    }
   ],
   "source": [
    "#creating a model\n",
    "from sklearn.linear_model import LinearRegression\n",
    "\n",
    "\n",
    "# creating a object\n",
    "regressor = LinearRegression()\n",
    "\n",
    "#training the model\n",
    "regressor.fit(xtrain,ytrain)\n",
    "\n",
    "#using the training dataset for the training\n",
    "pred_train=regressor.predict(xtrain)\n",
    "\n",
    "#using the training dataset for the prediction\n",
    "pred_test=regressor.predict(xtest)\n",
    "\n",
    "#model performance\n",
    "from sklearn.metrics import r2_score, mean_squared_error, mean_absolute_error\n",
    "mse = mean_squared_error(ytest,pred_test)\n",
    "mae = mean_absolute_error(ytest,pred_test)\n",
    "\n",
    "\n",
    "# Results\n",
    "\n",
    "print(\"Mean Squared Error : \", mse)\n",
    "print(\"Mean Absolute Error : \", mae)\n",
    "\n",
    "print(\"Y-intercept :\"  , regressor.intercept_)\n",
    "print(\"Slope :\" , regressor.coef_)\n"
   ]
  },
  {
   "cell_type": "code",
   "execution_count": 48,
   "id": "6be8aeae",
   "metadata": {},
   "outputs": [
    {
     "name": "stdout",
     "output_type": "stream",
     "text": [
      "First 5 Training Prediction:\n",
      "[[-0.34599125]\n",
      " [-0.60870091]\n",
      " [ 0.20715249]\n",
      " [ 0.57828259]\n",
      " [ 0.65020622]]\n",
      "First 5 Testing Prediction:\n",
      "[[-0.1750427 ]\n",
      " [-1.25384143]\n",
      " [-0.822003  ]\n",
      " [ 0.59803561]\n",
      " [ 0.53686171]]\n"
     ]
    }
   ],
   "source": [
    "print('First 5 Training Prediction:') \n",
    "print(pred_train[0:5])\n",
    "\n",
    "print('First 5 Testing Prediction:')\n",
    "print(pred_test[0:5])"
   ]
  },
  {
   "cell_type": "markdown",
   "id": "a4bad06d",
   "metadata": {},
   "source": [
    "R-Squared (R² or the coefficient of determination) is a statistical measure in a regression model that determines the proportion of variance in the dependent variable that can be explained by the independent variable. In other words, r-squared shows how well the data fit the regression model (the goodness of fit)."
   ]
  },
  {
   "cell_type": "code",
   "execution_count": 49,
   "id": "b369ef04",
   "metadata": {},
   "outputs": [
    {
     "name": "stdout",
     "output_type": "stream",
     "text": [
      "Training R-Squared  : 0.38908230377495134\n",
      "Testing R-Squared  : 0.3799622063229068\n"
     ]
    }
   ],
   "source": [
    "# R2 for Linear regression\n",
    "r2_test = r2_score(ytest,pred_test)\n",
    "r2_train=r2_score(ytrain,pred_train)\n",
    "\n",
    "print(\"Training R-Squared  :\" , r2_train)\n",
    "print(\"Testing R-Squared  :\" , r2_test)"
   ]
  },
  {
   "cell_type": "code",
   "execution_count": 50,
   "id": "12bf1bbb",
   "metadata": {},
   "outputs": [
    {
     "data": {
      "text/plain": [
       "Text(0, 0.5, 'R_2 Score')"
      ]
     },
     "execution_count": 50,
     "metadata": {},
     "output_type": "execute_result"
    },
    {
     "data": {
      "image/png": "[encoded data removed]",
      "text/plain": [
       "<Figure size 1500x500 with 1 Axes>"
      ]
     },
     "metadata": {},
     "output_type": "display_data"
    }
   ],
   "source": [
    "#r sqaure graph\n",
    "r_2 = []\n",
    "for i in range(1, (xtest.shape[-1])+1):\n",
    "    m=LinearRegression()\n",
    "    m.fit(xtrain.values[:,:i],ytrain)\n",
    "    prd=m.predict(xtest.values[:,:i])\n",
    "    r_2.append(r2_score(ytest,prd))\n",
    "    \n",
    "plt.figure(figsize=(15,5))\n",
    "plt.plot(r_2);\n",
    "plt.xlabel('Features')\n",
    "plt.ylabel('R_2 Score')"
   ]
  },
  {
   "cell_type": "code",
   "execution_count": 52,
   "id": "67102c81",
   "metadata": {},
   "outputs": [
    {
     "data": {
      "text/plain": [
       "'\\n# Residual Plot of Linear Regression\\nfrom yellowbrick.regressor import ResidualsPlot\\n\\nplt.figure(figsize=(15,6)) \\nvisualizer = ResidualsPlot(regressor,hist=True)\\nvisualizer.fit(xtrain.values, ytrain.values)  \\nvisualizer.score(xtest.values, ytest.values)  \\nvisualizer.poof()\\n  \\n'"
      ]
     },
     "execution_count": 52,
     "metadata": {},
     "output_type": "execute_result"
    }
   ],
   "source": [
    "'''\n",
    "# Residual Plot of Linear Regression\n",
    "from yellowbrick.regressor import ResidualsPlot\n",
    "\n",
    "plt.figure(figsize=(15,6)) \n",
    "visualizer = ResidualsPlot(regressor,hist=True)\n",
    "visualizer.fit(xtrain.values, ytrain.values)  \n",
    "visualizer.score(xtest.values, ytest.values)  \n",
    "visualizer.poof()\n",
    "  \n",
    "'''"
   ]
  },
  {
   "cell_type": "markdown",
   "id": "30d1f8c7",
   "metadata": {},
   "source": [
    "#### Implementation of Linear Regression using Statsmodel,"
   ]
  },
  {
   "cell_type": "code",
   "execution_count": 53,
   "id": "8cea0311",
   "metadata": {},
   "outputs": [
    {
     "name": "stdout",
     "output_type": "stream",
     "text": [
      "                            OLS Regression Results                            \n",
      "==============================================================================\n",
      "Dep. Variable:      Item_Outlet_Sales   R-squared:                       0.387\n",
      "Model:                            OLS   Adj. R-squared:                  0.386\n",
      "Method:                 Least Squares   F-statistic:                     597.3\n",
      "Date:                Mon, 12 Aug 2024   Prob (F-statistic):               0.00\n",
      "Time:                        12:25:08   Log-Likelihood:                -10008.\n",
      "No. Observations:                8523   AIC:                         2.004e+04\n",
      "Df Residuals:                    8513   BIC:                         2.011e+04\n",
      "Df Model:                           9                                         \n",
      "Covariance Type:            nonrobust                                         \n",
      "=============================================================================================\n",
      "                                coef    std err          t      P>|t|      [0.025      0.975]\n",
      "---------------------------------------------------------------------------------------------\n",
      "const                         0.0231      0.024      0.953      0.341      -0.024       0.071\n",
      "Item_Weight                  -0.0009      0.008     -0.109      0.913      -0.018       0.016\n",
      "Item_Fat_Content              0.0037      0.010      0.353      0.724      -0.017       0.024\n",
      "Item_Visibility              -0.0953      0.009    -11.092      0.000      -0.112      -0.078\n",
      "Item_Type                     0.0014      0.002      0.618      0.537      -0.003       0.006\n",
      "Item_MRP                      0.5680      0.008     66.890      0.000       0.551       0.585\n",
      "Outlet_Establishment_Year    -0.1878      0.011    -16.818      0.000      -0.210      -0.166\n",
      "Outlet_Size                  -0.2052      0.010    -20.619      0.000      -0.225      -0.186\n",
      "Outlet_Location_Type          0.2125      0.012     17.339      0.000       0.188       0.237\n",
      "Outlet_Type                  -0.0933      0.010     -9.267      0.000      -0.113      -0.074\n",
      "==============================================================================\n",
      "Omnibus:                      774.442   Durbin-Watson:                   1.999\n",
      "Prob(Omnibus):                  0.000   Jarque-Bera (JB):             1475.723\n",
      "Skew:                           0.618   Prob(JB):                         0.00\n",
      "Kurtosis:                       4.621   Cond. No.                         21.1\n",
      "==============================================================================\n",
      "\n",
      "Notes:\n",
      "[1] Standard Errors assume that the covariance matrix of the errors is correctly specified.\n"
     ]
    }
   ],
   "source": [
    "import statsmodels.api as sm\n",
    "\n",
    "#adding a constant\n",
    "X = sm.add_constant(X)\n",
    "\n",
    "#performing the regression\n",
    "result = sm.OLS(y, X).fit()\n",
    "\n",
    "# Result of statsmodels \n",
    "print(result.summary())"
   ]
  },
  {
   "cell_type": "markdown",
   "id": "27b1413a",
   "metadata": {},
   "source": [
    "### Decision Tree Model\n",
    "\n",
    "You will use the scikit-learn library to create your models. When coding, this library is written as sklearn, as you will see in the sample code. Scikit-learn is easily the most popular library for modeling the types of data typically stored in DataFrames.\n",
    "\n",
    "The steps to building and using a model are:\n",
    "\n",
    "Define: What type of model will it be? A decision tree? Some other type of model? Some other parameters of the model type are specified too.\n",
    "Fit: Capture patterns from provided data. This is the heart of modeling.\n",
    "Predict: Just what it sounds like\n",
    "Evaluate: Determine how accurate the model's predictions are.\n",
    "Here is an example of defining a decision tree model with scikit-learn and fitting it with the features and target variable."
   ]
  },
  {
   "cell_type": "code",
   "execution_count": 54,
   "id": "7771a10d",
   "metadata": {},
   "outputs": [
    {
     "name": "stdout",
     "output_type": "stream",
     "text": [
      "Making predictions for the following First 5 Row:\n",
      "   const  Item_Weight  Item_Fat_Content  Item_Visibility  Item_Type  Item_MRP  \\\n",
      "0    1.0    -0.766539                 0        -1.011166          0  1.747454   \n",
      "1    1.0    -1.496443                 1        -0.944744          1 -1.489023   \n",
      "2    1.0     1.004233                 0        -0.996512          2  0.010040   \n",
      "3    1.0     1.371344                 1        -1.341070          3  0.660050   \n",
      "4    1.0    -0.846440                 0        -1.341070          4 -1.399220   \n",
      "\n",
      "   Outlet_Establishment_Year  Outlet_Size  Outlet_Location_Type  Outlet_Type  \n",
      "0                   0.139541            0                     0            0  \n",
      "1                   1.334103            0                     1            1  \n",
      "2                   0.139541            0                     0            0  \n",
      "3                   0.020085            0                     1            2  \n",
      "4                  -1.293934            1                     1            0  \n",
      "The predictions are\n",
      "[ 0.910601   -1.01844035 -0.04923754 -0.84910299 -0.69537275]\n"
     ]
    }
   ],
   "source": [
    "from sklearn.tree import DecisionTreeRegressor\n",
    "\n",
    "# Define model. Specify a number for random_state to ensure same results each run\n",
    "melbourne_model = DecisionTreeRegressor(random_state=1)\n",
    "\n",
    "# Fit model\n",
    "melbourne_model.fit(X, y)\n",
    "\n",
    "print(\"Making predictions for the following First 5 Row:\")\n",
    "print(X.head())\n",
    "\n",
    "print(\"The predictions are\")\n",
    "print(melbourne_model.predict(X.head()))"
   ]
  },
  {
   "cell_type": "markdown",
   "id": "96d6f29c",
   "metadata": {},
   "source": [
    "### Random Forest for Regression\n",
    "In this section, we will look at using random forests for a regression problem.\n",
    "\n",
    "Decision trees leave you with a difficult decision. A deep tree with lots of leaves will overfit because each prediction is coming from historical data from only the few houses at its leaf. But a shallow tree with few leaves will perform poorly because it fails to capture as many distinctions in the raw data.\n",
    "\n",
    "Even today's most sophisticated modeling techniques face this tension between underfitting and overfitting. But, many models have clever ideas that can lead to better performance. We'll look at the random forest as an example.\n",
    "\n",
    "The random forest uses many trees, and it makes a prediction by averaging the predictions of each component tree. It generally has much better predictive accuracy than a single decision tree and it works well with default parameters. If you keep modeling, you can learn more models with even better performance, but many of those are sensitive to getting the right parameters."
   ]
  },
  {
   "cell_type": "code",
   "execution_count": 55,
   "id": "40e91262",
   "metadata": {},
   "outputs": [
    {
     "name": "stderr",
     "output_type": "stream",
     "text": [
      "c:\\Users\\pc planet\\AppData\\Local\\Programs\\Python\\Python312\\Lib\\site-packages\\sklearn\\base.py:1473: DataConversionWarning: A column-vector y was passed when a 1d array was expected. Please change the shape of y to (n_samples,), for example using ravel().\n",
      "  return fit_method(estimator, *args, **kwargs)\n"
     ]
    },
    {
     "name": "stdout",
     "output_type": "stream",
     "text": [
      "First 5 Training Prediction:\n",
      "[-1.17563537 -0.36631201  1.08131179  0.29145052  0.85798546]\n",
      "First 5 Testing Prediction:\n",
      "[-0.81223114 -0.75573333 -0.97343719  1.8694875   0.10987326]\n",
      "Mean Absolute Error : 0.45496762594603735\n"
     ]
    }
   ],
   "source": [
    "from sklearn.ensemble import RandomForestRegressor\n",
    "from sklearn.metrics import mean_absolute_error\n",
    "\n",
    "forest_model = RandomForestRegressor(random_state=1)\n",
    "forest_model.fit(xtrain, ytrain)\n",
    "\n",
    "melb_preds = forest_model.predict(xtest)\n",
    "pred_tr=forest_model.predict(xtrain)\n",
    "\n",
    "\n",
    "print('First 5 Training Prediction:') \n",
    "print(pred_tr[0:5])\n",
    "\n",
    "print('First 5 Testing Prediction:')\n",
    "print(melb_preds[0:5])\n",
    "\n",
    "print('Mean Absolute Error :', mean_absolute_error(ytest, melb_preds))"
   ]
  },
  {
   "cell_type": "markdown",
   "id": "72bca09d",
   "metadata": {},
   "source": [
    "R-Squared (R² or the coefficient of determination) is a statistical measure in a regression model that determines the proportion of variance in the dependent variable that can be explained by the independent variable. In other words, r-squared shows how well the data fit the regression model (the goodness of fit)."
   ]
  },
  {
   "cell_type": "code",
   "execution_count": 56,
   "id": "1f8ae218",
   "metadata": {},
   "outputs": [
    {
     "name": "stdout",
     "output_type": "stream",
     "text": [
      "Training R-Squared  : 0.9370542927038542\n",
      "Testing R-Squared  : 0.5565941925894173\n"
     ]
    }
   ],
   "source": [
    "# R2 for the random Forest Regressor\n",
    "r2_tr=r2_score(ytrain,pred_tr)\n",
    "\n",
    "\n",
    "pred_ts=forest_model.predict(xtest)\n",
    "r2_ts=r2_score(ytest,pred_ts)                             \n",
    "r2_ts\n",
    "\n",
    "print(\"Training R-Squared  :\" , r2_tr)\n",
    "print(\"Testing R-Squared  :\" , r2_ts)"
   ]
  },
  {
   "cell_type": "markdown",
   "id": "df0c5b1b",
   "metadata": {},
   "source": [
    "### Using Ridge Regression\n",
    "\n",
    "Ridge regression is the method used for the analysis of multicollinearity in multiple regression data. It is most suitable when a data set contains a higher number of predictor variables than the number of observations. The second-best scenario is when multicollinearity is experienced in a set."
   ]
  },
  {
   "cell_type": "code",
   "execution_count": 59,
   "id": "c48039d3",
   "metadata": {},
   "outputs": [
    {
     "name": "stdout",
     "output_type": "stream",
     "text": [
      "First 5 Training Prediction:\n",
      "[[-0.34599117]\n",
      " [-0.60870071]\n",
      " [ 0.20715242]\n",
      " [ 0.57828246]\n",
      " [ 0.65020598]]\n",
      "First 5 Testing Prediction:\n",
      "[[-0.17504279]\n",
      " [-1.25384114]\n",
      " [-0.82200284]\n",
      " [ 0.59803548]\n",
      " [ 0.53686163]]\n"
     ]
    }
   ],
   "source": [
    "from sklearn.linear_model import Ridge\n",
    "ridge=Ridge(alpha=0.001)\n",
    "\n",
    "ridge.fit(xtrain,ytrain)\n",
    "y_train_r=ridge.predict(xtrain)\n",
    "y_test_r = ridge.predict(xtest)\n",
    "\n",
    "\n",
    "print('First 5 Training Prediction:') \n",
    "print(y_train_r[0:5])\n",
    "\n",
    "print('First 5 Testing Prediction:')\n",
    "print(y_test_r[0:5])"
   ]
  },
  {
   "cell_type": "code",
   "execution_count": 60,
   "id": "d32cd4af",
   "metadata": {},
   "outputs": [
    {
     "name": "stdout",
     "output_type": "stream",
     "text": [
      "Training R-Squared  : 0.3890823037749306\n",
      "Testing R-Squared  : 0.3799622157379966\n"
     ]
    }
   ],
   "source": [
    "#R2 for the ridge\n",
    "train_ridge_score=r2_score(ytrain,y_train_r)\n",
    "test_ridge_score=r2_score(ytest,y_test_r)\n",
    "\n",
    "print(\"Training R-Squared  :\" , train_ridge_score)\n",
    "print(\"Testing R-Squared  :\" , test_ridge_score)"
   ]
  },
  {
   "cell_type": "markdown",
   "id": "fefaf784",
   "metadata": {},
   "source": [
    "R-Squared (R² or the coefficient of determination) is a statistical measure in a regression model that determines the proportion of variance in the dependent variable that can be explained by the independent variable. In other words, r-squared shows how well the data fit the regression model (the goodness of fit)."
   ]
  },
  {
   "cell_type": "code",
   "execution_count": 62,
   "id": "b9414715",
   "metadata": {},
   "outputs": [
    {
     "data": {
      "text/plain": [
       "'\\n# Residual Plot of Linear Regression\\nfrom yellowbrick.regressor import ResidualsPlot\\n\\nplt.figure(figsize=(15,6)) \\nvisualizer = ResidualsPlot(ridge,hist=True)\\nvisualizer.fit(xtrain.values, ytrain.values)  \\nvisualizer.score(xtest.values, ytest.values)  \\nvisualizer.poof()\\n'"
      ]
     },
     "execution_count": 62,
     "metadata": {},
     "output_type": "execute_result"
    }
   ],
   "source": [
    "'''\n",
    "# Residual Plot of Linear Regression\n",
    "from yellowbrick.regressor import ResidualsPlot\n",
    "\n",
    "plt.figure(figsize=(15,6)) \n",
    "visualizer = ResidualsPlot(ridge,hist=True)\n",
    "visualizer.fit(xtrain.values, ytrain.values)  \n",
    "visualizer.score(xtest.values, ytest.values)  \n",
    "visualizer.poof()\n",
    "'''  "
   ]
  },
  {
   "cell_type": "markdown",
   "id": "4b7936c4",
   "metadata": {},
   "source": [
    "### Using Polynomial Feature\n",
    "It's not a coincidence: polynomial regression is a linear model used for describing non-linear relationships. "
   ]
  },
  {
   "cell_type": "code",
   "execution_count": 63,
   "id": "0fa69127",
   "metadata": {},
   "outputs": [
    {
     "name": "stdout",
     "output_type": "stream",
     "text": [
      "First 5 Training Prediction:\n",
      "[[-1.15452629]\n",
      " [-0.44773479]\n",
      " [ 0.71988644]\n",
      " [ 0.31465333]\n",
      " [ 0.41819689]]\n",
      "First 5 Testing Prediction:\n",
      "[[-0.46922931]\n",
      " [-0.82519699]\n",
      " [-1.04485   ]\n",
      " [ 1.4727965 ]\n",
      " [ 0.83509549]]\n"
     ]
    }
   ],
   "source": [
    "from sklearn.preprocessing import PolynomialFeatures\n",
    "poly_features = PolynomialFeatures(degree=4)\n",
    "\n",
    "xtrain_poly=poly_features.fit_transform(xtrain)\n",
    "poly_model = LinearRegression()\n",
    "poly_model.fit(xtrain_poly, ytrain)\n",
    "\n",
    "y_train_predicted = poly_model.predict(xtrain_poly)\n",
    "\n",
    "xtest_poly=poly_features.fit_transform(xtest)\n",
    "y_test_predict = poly_model.predict(xtest_poly)\n",
    "\n",
    "\n",
    "print('First 5 Training Prediction:') \n",
    "print(y_train_predicted[0:5])\n",
    "\n",
    "print('First 5 Testing Prediction:')\n",
    "print(y_test_predict[0:5])"
   ]
  },
  {
   "cell_type": "code",
   "execution_count": 64,
   "id": "5b24865b",
   "metadata": {},
   "outputs": [
    {
     "name": "stdout",
     "output_type": "stream",
     "text": [
      "Training R-Squared  : 0.6420798379920741\n",
      "Testing R-Squared  : 0.5580096778922206\n"
     ]
    }
   ],
   "source": [
    "# R2 for poly feature\n",
    "r2_train=r2_score(ytrain,y_train_predicted)\n",
    "r2_test=r2_score(ytest,y_test_predict)\n",
    "\n",
    "\n",
    "print(\"Training R-Squared  :\" , r2_train)\n",
    "print(\"Testing R-Squared  :\" , r2_test)"
   ]
  },
  {
   "cell_type": "markdown",
   "id": "3eeb5c4b",
   "metadata": {},
   "source": [
    "R-Squared (R² or the coefficient of determination) is a statistical measure in a regression model that determines the proportion of variance in the dependent variable that can be explained by the independent variable. In other words, r-squared shows how well the data fit the regression model (the goodness of fit)."
   ]
  },
  {
   "cell_type": "markdown",
   "id": "0805aa9b",
   "metadata": {},
   "source": [
    "## Hyper Parameter Tuning XGB And GBR\n",
    "Boosting algorithms play a crucial role in dealing with bias variance trade-off.  Unlike bagging algorithms, which only controls for high variance in a model, boosting controls both the aspects (bias & variance), and is considered to be more effective."
   ]
  },
  {
   "cell_type": "markdown",
   "id": "505ba1d6",
   "metadata": {},
   "source": [
    "### XGBoost for Regression\n",
    "\n",
    "Extreme Gradient Boosting (XGBoost) is an open-source library that provides an efficient and effective implementation of the gradient boosting algorithm.\n",
    "\n",
    "Regression predictive modeling problems involve predicting a numerical value such as a dollar amount or a height. XGBoost can be used directly for regression predictive modeling."
   ]
  },
  {
   "cell_type": "code",
   "execution_count": 55,
   "id": "9a0f65b9",
   "metadata": {},
   "outputs": [
    {
     "name": "stdout",
     "output_type": "stream",
     "text": [
      "xgboost Version 1.6.2\n"
     ]
    },
    {
     "data": {
      "text/html": [
       "<style>#sk-container-id-1 {color: black;background-color: white;}#sk-container-id-1 pre{padding: 0;}#sk-container-id-1 div.sk-toggleable {background-color: white;}#sk-container-id-1 label.sk-toggleable__label {cursor: pointer;display: block;width: 100%;margin-bottom: 0;padding: 0.3em;box-sizing: border-box;text-align: center;}#sk-container-id-1 label.sk-toggleable__label-arrow:before {content: \"▸\";float: left;margin-right: 0.25em;color: #696969;}#sk-container-id-1 label.sk-toggleable__label-arrow:hover:before {color: black;}#sk-container-id-1 div.sk-estimator:hover label.sk-toggleable__label-arrow:before {color: black;}#sk-container-id-1 div.sk-toggleable__content {max-height: 0;max-width: 0;overflow: hidden;text-align: left;background-color: #f0f8ff;}#sk-container-id-1 div.sk-toggleable__content pre {margin: 0.2em;color: black;border-radius: 0.25em;background-color: #f0f8ff;}#sk-container-id-1 input.sk-toggleable__control:checked~div.sk-toggleable__content {max-height: 200px;max-width: 100%;overflow: auto;}#sk-container-id-1 input.sk-toggleable__control:checked~label.sk-toggleable__label-arrow:before {content: \"▾\";}#sk-container-id-1 div.sk-estimator input.sk-toggleable__control:checked~label.sk-toggleable__label {background-color: #d4ebff;}#sk-container-id-1 div.sk-label input.sk-toggleable__control:checked~label.sk-toggleable__label {background-color: #d4ebff;}#sk-container-id-1 input.sk-hidden--visually {border: 0;clip: rect(1px 1px 1px 1px);clip: rect(1px, 1px, 1px, 1px);height: 1px;margin: -1px;overflow: hidden;padding: 0;position: absolute;width: 1px;}#sk-container-id-1 div.sk-estimator {font-family: monospace;background-color: #f0f8ff;border: 1px dotted black;border-radius: 0.25em;box-sizing: border-box;margin-bottom: 0.5em;}#sk-container-id-1 div.sk-estimator:hover {background-color: #d4ebff;}#sk-container-id-1 div.sk-parallel-item::after {content: \"\";width: 100%;border-bottom: 1px solid gray;flex-grow: 1;}#sk-container-id-1 div.sk-label:hover label.sk-toggleable__label {background-color: #d4ebff;}#sk-container-id-1 div.sk-serial::before {content: \"\";position: absolute;border-left: 1px solid gray;box-sizing: border-box;top: 0;bottom: 0;left: 50%;z-index: 0;}#sk-container-id-1 div.sk-serial {display: flex;flex-direction: column;align-items: center;background-color: white;padding-right: 0.2em;padding-left: 0.2em;position: relative;}#sk-container-id-1 div.sk-item {position: relative;z-index: 1;}#sk-container-id-1 div.sk-parallel {display: flex;align-items: stretch;justify-content: center;background-color: white;position: relative;}#sk-container-id-1 div.sk-item::before, #sk-container-id-1 div.sk-parallel-item::before {content: \"\";position: absolute;border-left: 1px solid gray;box-sizing: border-box;top: 0;bottom: 0;left: 50%;z-index: -1;}#sk-container-id-1 div.sk-parallel-item {display: flex;flex-direction: column;z-index: 1;position: relative;background-color: white;}#sk-container-id-1 div.sk-parallel-item:first-child::after {align-self: flex-end;width: 50%;}#sk-container-id-1 div.sk-parallel-item:last-child::after {align-self: flex-start;width: 50%;}#sk-container-id-1 div.sk-parallel-item:only-child::after {width: 0;}#sk-container-id-1 div.sk-dashed-wrapped {border: 1px dashed gray;margin: 0 0.4em 0.5em 0.4em;box-sizing: border-box;padding-bottom: 0.4em;background-color: white;}#sk-container-id-1 div.sk-label label {font-family: monospace;font-weight: bold;display: inline-block;line-height: 1.2em;}#sk-container-id-1 div.sk-label-container {text-align: center;}#sk-container-id-1 div.sk-container {/* jupyter's `normalize.less` sets `[hidden] { display: none; }` but bootstrap.min.css set `[hidden] { display: none !important; }` so we also need the `!important` here to be able to override the default hidden behavior on the sphinx rendered scikit-learn.org. See: https://github.com/scikit-learn/scikit-learn/issues/21755 */display: inline-block !important;position: relative;}#sk-container-id-1 div.sk-text-repr-fallback {display: none;}</style><div id=\"sk-container-id-1\" class=\"sk-top-container\"><div class=\"sk-text-repr-fallback\"><pre>XGBRegressor(base_score=0.5, booster=&#x27;gbtree&#x27;, callbacks=None,\n",
       "             colsample_bylevel=1, colsample_bynode=1, colsample_bytree=1,\n",
       "             early_stopping_rounds=None, enable_categorical=False,\n",
       "             eval_metric=None, gamma=0, gpu_id=-1, grow_policy=&#x27;depthwise&#x27;,\n",
       "             importance_type=None, interaction_constraints=&#x27;&#x27;,\n",
       "             learning_rate=0.300000012, max_bin=256, max_cat_to_onehot=4,\n",
       "             max_delta_step=0, max_depth=6, max_leaves=0, min_child_weight=1,\n",
       "             missing=nan, monotone_constraints=&#x27;()&#x27;, n_estimators=100, n_jobs=0,\n",
       "             num_parallel_tree=1, predictor=&#x27;auto&#x27;, random_state=0, reg_alpha=0,\n",
       "             reg_lambda=1, ...)</pre><b>In a Jupyter environment, please rerun this cell to show the HTML representation or trust the notebook. <br />On GitHub, the HTML representation is unable to render, please try loading this page with nbviewer.org.</b></div><div class=\"sk-container\" hidden><div class=\"sk-item\"><div class=\"sk-estimator sk-toggleable\"><input class=\"sk-toggleable__control sk-hidden--visually\" id=\"sk-estimator-id-1\" type=\"checkbox\" checked><label for=\"sk-estimator-id-1\" class=\"sk-toggleable__label sk-toggleable__label-arrow\">XGBRegressor</label><div class=\"sk-toggleable__content\"><pre>XGBRegressor(base_score=0.5, booster=&#x27;gbtree&#x27;, callbacks=None,\n",
       "             colsample_bylevel=1, colsample_bynode=1, colsample_bytree=1,\n",
       "             early_stopping_rounds=None, enable_categorical=False,\n",
       "             eval_metric=None, gamma=0, gpu_id=-1, grow_policy=&#x27;depthwise&#x27;,\n",
       "             importance_type=None, interaction_constraints=&#x27;&#x27;,\n",
       "             learning_rate=0.300000012, max_bin=256, max_cat_to_onehot=4,\n",
       "             max_delta_step=0, max_depth=6, max_leaves=0, min_child_weight=1,\n",
       "             missing=nan, monotone_constraints=&#x27;()&#x27;, n_estimators=100, n_jobs=0,\n",
       "             num_parallel_tree=1, predictor=&#x27;auto&#x27;, random_state=0, reg_alpha=0,\n",
       "             reg_lambda=1, ...)</pre></div></div></div></div></div>"
      ],
      "text/plain": [
       "XGBRegressor(base_score=0.5, booster='gbtree', callbacks=None,\n",
       "             colsample_bylevel=1, colsample_bynode=1, colsample_bytree=1,\n",
       "             early_stopping_rounds=None, enable_categorical=False,\n",
       "             eval_metric=None, gamma=0, gpu_id=-1, grow_policy='depthwise',\n",
       "             importance_type=None, interaction_constraints='',\n",
       "             learning_rate=0.300000012, max_bin=256, max_cat_to_onehot=4,\n",
       "             max_delta_step=0, max_depth=6, max_leaves=0, min_child_weight=1,\n",
       "             missing=nan, monotone_constraints='()', n_estimators=100, n_jobs=0,\n",
       "             num_parallel_tree=1, predictor='auto', random_state=0, reg_alpha=0,\n",
       "             reg_lambda=1, ...)"
      ]
     },
     "execution_count": 55,
     "metadata": {},
     "output_type": "execute_result"
    }
   ],
   "source": [
    "\n",
    "# check xgboost version\n",
    "import xgboost\n",
    "print('xgboost Version', xgboost.__version__)\n",
    "\n",
    "from xgboost import XGBRegressor\n",
    "\n",
    "# create an xgboost regression model\n",
    "xgb=XGBRegressor()\n",
    "\n",
    "xgb.fit(xtrain,ytrain)\n"
   ]
  },
  {
   "cell_type": "code",
   "execution_count": 56,
   "id": "a953a269",
   "metadata": {},
   "outputs": [
    {
     "name": "stdout",
     "output_type": "stream",
     "text": [
      "First 5 Training Prediction:\n",
      "[ 389.55606 1420.7844  4140.882   2519.5918  3564.8804 ]\n",
      "First 5 Testing Prediction:\n",
      "[ 946.3889   784.41174  794.22235 4968.1514  2562.8389 ]\n"
     ]
    }
   ],
   "source": [
    "train_x=xgb.predict(xtrain)\n",
    "test_x=xgb.predict(xtest)\n",
    "\n",
    "\n",
    "print('First 5 Training Prediction:') \n",
    "print(train_x[0:5])\n",
    "\n",
    "print('First 5 Testing Prediction:')\n",
    "print(test_x[0:5])"
   ]
  },
  {
   "cell_type": "markdown",
   "id": "ce1e05e9",
   "metadata": {},
   "source": [
    "R-Squared (R² or the coefficient of determination) is a statistical measure in a regression model that determines the proportion of variance in the dependent variable that can be explained by the independent variable. In other words, r-squared shows how well the data fit the regression model (the goodness of fit)."
   ]
  },
  {
   "cell_type": "code",
   "execution_count": 57,
   "id": "68a17315",
   "metadata": {},
   "outputs": [
    {
     "name": "stdout",
     "output_type": "stream",
     "text": [
      "Training R-Squared  : 0.8764580761572414\n",
      "Testing R-Squared  : 0.5373058647490068\n"
     ]
    }
   ],
   "source": [
    "# R2 score of XGB\n",
    "\n",
    "train_r2=r2_score(ytrain,train_x)\n",
    "test_r2=r2_score(ytest,test_x)\n",
    "\n",
    "\n",
    "print(\"Training R-Squared  :\" , train_r2)\n",
    "print(\"Testing R-Squared  :\" , test_r2)"
   ]
  },
  {
   "cell_type": "code",
   "execution_count": 58,
   "id": "87972861",
   "metadata": {},
   "outputs": [
    {
     "name": "stdout",
     "output_type": "stream",
     "text": [
      "First 5 Training Prediction:\n",
      "[1329.1824  683.3219  685.7078 5174.2993 3195.7222]\n",
      "First 5 Testing Prediction:\n",
      "[ 509.1434 1639.1865 3143.0144 3574.3208 3146.487 ]\n"
     ]
    }
   ],
   "source": [
    "# Finding best Hyperparameter Tunning XGB\n",
    "\n",
    "from sklearn.model_selection import GridSearchCV\n",
    "parameters1= [{'alpha': [0.001,0.1,1, 10, 100, 1000, 10000, 100000, 100000]}]\n",
    "xg=XGBRegressor()\n",
    "Grid1 = GridSearchCV(xg, parameters1,cv=4)\n",
    "Grid1.fit(xtrain,ytrain) \n",
    "BestRR=Grid1.best_estimator_\n",
    "pred_g=BestRR.predict(xtest)\n",
    "pred_train=BestRR.predict(xtrain)\n",
    "\n",
    "\n",
    "print('First 5 Training Prediction:') \n",
    "print(pred_g[0:5])\n",
    "\n",
    "print('First 5 Testing Prediction:')\n",
    "print(pred_train[0:5])"
   ]
  },
  {
   "cell_type": "code",
   "execution_count": 59,
   "id": "dbd6c8fa",
   "metadata": {},
   "outputs": [
    {
     "name": "stdout",
     "output_type": "stream",
     "text": [
      "Training R-Squared  : 0.6091080880421429\n",
      "Testing R-Squared  : 0.5870021324069385\n"
     ]
    }
   ],
   "source": [
    "# R2 score of best Hyperparameter Tunning XGB\n",
    "gr_score_train=r2_score(ytrain,pred_train)\n",
    "gr_score=r2_score(ytest,pred_g)\n",
    "\n",
    "\n",
    "print(\"Training R-Squared  :\" , gr_score_train)\n",
    "print(\"Testing R-Squared  :\" , gr_score)"
   ]
  },
  {
   "cell_type": "markdown",
   "id": "69e08c0f",
   "metadata": {},
   "source": [
    "### Gradient Boosting Regression (GBR)\n",
    "\"Boosting\" in machine learning is a way of combining multiple simple models into a single composite model. This is also why boosting is known as an additive model, since simple models (also known as weak learners) are added one at a time, while keeping existing trees in the model unchanged. As we combine more and more simple models, the complete final model becomes a stronger predictor. The term \"gradient\" in \"gradient boosting\" comes from the fact that the algorithm uses gradient descent to minimize the loss.\n",
    "\n",
    "When gradient boost is used to predict a continuous value – like age, weight, or cost – we're using gradient boost for regression. This is not the same as using linear regression.\n",
    "\n"
   ]
  },
  {
   "cell_type": "code",
   "execution_count": 60,
   "id": "b7eebb68",
   "metadata": {},
   "outputs": [
    {
     "name": "stderr",
     "output_type": "stream",
     "text": [
      "C:\\Users\\Dell\\AppData\\Local\\Programs\\Python\\Python310\\lib\\site-packages\\sklearn\\ensemble\\_gb.py:570: DataConversionWarning: A column-vector y was passed when a 1d array was expected. Please change the shape of y to (n_samples, ), for example using ravel().\n",
      "  y = column_or_1d(y, warn=True)\n"
     ]
    },
    {
     "name": "stdout",
     "output_type": "stream",
     "text": [
      "First 5 Training Prediction:\n",
      "[ 648.57261382 1613.8625998  3628.58827166 3432.94979812 3186.80871304]\n",
      "First 5 Testing Prediction:\n",
      "[1276.46548988  722.52601945  728.63134077 4743.74485889 3288.1362539 ]\n"
     ]
    }
   ],
   "source": [
    "from sklearn.ensemble import GradientBoostingRegressor\n",
    "GD=GradientBoostingRegressor()\n",
    "\n",
    "GD.fit(xtrain,ytrain)\n",
    "pred_train_gd=GD.predict(xtrain)\n",
    "pred_test_gd=GD.predict(xtest)\n",
    "\n",
    "print('First 5 Training Prediction:') \n",
    "print(pred_train_gd[0:5])\n",
    "\n",
    "print('First 5 Testing Prediction:')\n",
    "print(pred_test_gd[0:5])"
   ]
  },
  {
   "cell_type": "code",
   "execution_count": 61,
   "id": "9a2eac2e",
   "metadata": {},
   "outputs": [
    {
     "name": "stdout",
     "output_type": "stream",
     "text": [
      "Training R-Squared  : 0.6389177497583243\n",
      "Testing R-Squared  : 0.5923294769339444\n"
     ]
    }
   ],
   "source": [
    "# R2 score of GB\n",
    "r2_score_train=r2_score(ytrain,pred_train_gd)\n",
    "r2_score_test=r2_score(ytest,pred_test_gd)\n",
    "\n",
    "print(\"Training R-Squared  :\" , r2_score_train)\n",
    "print(\"Testing R-Squared  :\" , r2_score_test)"
   ]
  },
  {
   "cell_type": "markdown",
   "id": "912ecdb8",
   "metadata": {},
   "source": [
    "## Final Predictions On The Test Dataset"
   ]
  },
  {
   "cell_type": "code",
   "execution_count": 62,
   "id": "68af9ac8",
   "metadata": {},
   "outputs": [
    {
     "data": {
      "text/html": [
       "<div>\n",
       "<style scoped>\n",
       "    .dataframe tbody tr th:only-of-type {\n",
       "        vertical-align: middle;\n",
       "    }\n",
       "\n",
       "    .dataframe tbody tr th {\n",
       "        vertical-align: top;\n",
       "    }\n",
       "\n",
       "    .dataframe thead th {\n",
       "        text-align: right;\n",
       "    }\n",
       "</style>\n",
       "<table border=\"1\" class=\"dataframe\">\n",
       "  <thead>\n",
       "    <tr style=\"text-align: right;\">\n",
       "      <th></th>\n",
       "      <th>Item_Identifier</th>\n",
       "      <th>Item_Weight</th>\n",
       "      <th>Item_Fat_Content</th>\n",
       "      <th>Item_Visibility</th>\n",
       "      <th>Item_Type</th>\n",
       "      <th>Item_MRP</th>\n",
       "      <th>Outlet_Identifier</th>\n",
       "      <th>Outlet_Establishment_Year</th>\n",
       "      <th>Outlet_Size</th>\n",
       "      <th>Outlet_Location_Type</th>\n",
       "      <th>Outlet_Type</th>\n",
       "    </tr>\n",
       "  </thead>\n",
       "  <tbody>\n",
       "    <tr>\n",
       "      <th>0</th>\n",
       "      <td>FDW58</td>\n",
       "      <td>20.750</td>\n",
       "      <td>Low Fat</td>\n",
       "      <td>0.007565</td>\n",
       "      <td>Snack Foods</td>\n",
       "      <td>107.8622</td>\n",
       "      <td>OUT049</td>\n",
       "      <td>1999</td>\n",
       "      <td>Medium</td>\n",
       "      <td>Tier 1</td>\n",
       "      <td>Supermarket Type1</td>\n",
       "    </tr>\n",
       "    <tr>\n",
       "      <th>1</th>\n",
       "      <td>FDW14</td>\n",
       "      <td>8.300</td>\n",
       "      <td>reg</td>\n",
       "      <td>0.038428</td>\n",
       "      <td>Dairy</td>\n",
       "      <td>87.3198</td>\n",
       "      <td>OUT017</td>\n",
       "      <td>2007</td>\n",
       "      <td>NaN</td>\n",
       "      <td>Tier 2</td>\n",
       "      <td>Supermarket Type1</td>\n",
       "    </tr>\n",
       "    <tr>\n",
       "      <th>2</th>\n",
       "      <td>NCN55</td>\n",
       "      <td>14.600</td>\n",
       "      <td>Low Fat</td>\n",
       "      <td>0.099575</td>\n",
       "      <td>Others</td>\n",
       "      <td>241.7538</td>\n",
       "      <td>OUT010</td>\n",
       "      <td>1998</td>\n",
       "      <td>NaN</td>\n",
       "      <td>Tier 3</td>\n",
       "      <td>Grocery Store</td>\n",
       "    </tr>\n",
       "    <tr>\n",
       "      <th>3</th>\n",
       "      <td>FDQ58</td>\n",
       "      <td>7.315</td>\n",
       "      <td>Low Fat</td>\n",
       "      <td>0.015388</td>\n",
       "      <td>Snack Foods</td>\n",
       "      <td>155.0340</td>\n",
       "      <td>OUT017</td>\n",
       "      <td>2007</td>\n",
       "      <td>NaN</td>\n",
       "      <td>Tier 2</td>\n",
       "      <td>Supermarket Type1</td>\n",
       "    </tr>\n",
       "    <tr>\n",
       "      <th>4</th>\n",
       "      <td>FDY38</td>\n",
       "      <td>NaN</td>\n",
       "      <td>Regular</td>\n",
       "      <td>0.118599</td>\n",
       "      <td>Dairy</td>\n",
       "      <td>234.2300</td>\n",
       "      <td>OUT027</td>\n",
       "      <td>1985</td>\n",
       "      <td>Medium</td>\n",
       "      <td>Tier 3</td>\n",
       "      <td>Supermarket Type3</td>\n",
       "    </tr>\n",
       "  </tbody>\n",
       "</table>\n",
       "</div>"
      ],
      "text/plain": [
       "  Item_Identifier  Item_Weight Item_Fat_Content  Item_Visibility    Item_Type  \\\n",
       "0           FDW58       20.750          Low Fat         0.007565  Snack Foods   \n",
       "1           FDW14        8.300              reg         0.038428        Dairy   \n",
       "2           NCN55       14.600          Low Fat         0.099575       Others   \n",
       "3           FDQ58        7.315          Low Fat         0.015388  Snack Foods   \n",
       "4           FDY38          NaN          Regular         0.118599        Dairy   \n",
       "\n",
       "   Item_MRP Outlet_Identifier  Outlet_Establishment_Year Outlet_Size  \\\n",
       "0  107.8622            OUT049                       1999      Medium   \n",
       "1   87.3198            OUT017                       2007         NaN   \n",
       "2  241.7538            OUT010                       1998         NaN   \n",
       "3  155.0340            OUT017                       2007         NaN   \n",
       "4  234.2300            OUT027                       1985      Medium   \n",
       "\n",
       "  Outlet_Location_Type        Outlet_Type  \n",
       "0               Tier 1  Supermarket Type1  \n",
       "1               Tier 2  Supermarket Type1  \n",
       "2               Tier 3      Grocery Store  \n",
       "3               Tier 2  Supermarket Type1  \n",
       "4               Tier 3  Supermarket Type3  "
      ]
     },
     "execution_count": 62,
     "metadata": {},
     "output_type": "execute_result"
    }
   ],
   "source": [
    "# Reading test data set using pandas\n",
    "test_data=pd.read_csv('Test.csv')\n",
    "test_data.head()"
   ]
  },
  {
   "cell_type": "markdown",
   "id": "7d45eb87",
   "metadata": {},
   "source": [
    "Let's prepare our test data for the model"
   ]
  },
  {
   "cell_type": "code",
   "execution_count": 63,
   "id": "74cb9b74",
   "metadata": {},
   "outputs": [
    {
     "name": "stdout",
     "output_type": "stream",
     "text": [
      "Item_Identifier              0\n",
      "Item_Weight                  0\n",
      "Item_Fat_Content             0\n",
      "Item_Visibility              0\n",
      "Item_Type                    0\n",
      "Item_MRP                     0\n",
      "Outlet_Identifier            0\n",
      "Outlet_Establishment_Year    0\n",
      "Outlet_Size                  0\n",
      "Outlet_Location_Type         0\n",
      "Outlet_Type                  0\n",
      "dtype: int64\n",
      "bigMart_data Shape (8523, 10)\n",
      "Orignal test_data shape (5681, 11)\n"
     ]
    },
    {
     "data": {
      "text/html": [
       "<div>\n",
       "<style scoped>\n",
       "    .dataframe tbody tr th:only-of-type {\n",
       "        vertical-align: middle;\n",
       "    }\n",
       "\n",
       "    .dataframe tbody tr th {\n",
       "        vertical-align: top;\n",
       "    }\n",
       "\n",
       "    .dataframe thead th {\n",
       "        text-align: right;\n",
       "    }\n",
       "</style>\n",
       "<table border=\"1\" class=\"dataframe\">\n",
       "  <thead>\n",
       "    <tr style=\"text-align: right;\">\n",
       "      <th></th>\n",
       "      <th>Item_Weight</th>\n",
       "      <th>Item_Fat_Content</th>\n",
       "      <th>Item_Visibility</th>\n",
       "      <th>Item_Type</th>\n",
       "      <th>Item_MRP</th>\n",
       "      <th>Outlet_Establishment_Year</th>\n",
       "      <th>Outlet_Size</th>\n",
       "      <th>Outlet_Location_Type</th>\n",
       "      <th>Outlet_Type</th>\n",
       "    </tr>\n",
       "  </thead>\n",
       "  <tbody>\n",
       "    <tr>\n",
       "      <th>0</th>\n",
       "      <td>20.750</td>\n",
       "      <td>0</td>\n",
       "      <td>0.007565</td>\n",
       "      <td>0</td>\n",
       "      <td>107.8622</td>\n",
       "      <td>1999</td>\n",
       "      <td>0</td>\n",
       "      <td>0</td>\n",
       "      <td>0</td>\n",
       "    </tr>\n",
       "    <tr>\n",
       "      <th>1</th>\n",
       "      <td>8.300</td>\n",
       "      <td>1</td>\n",
       "      <td>0.038428</td>\n",
       "      <td>1</td>\n",
       "      <td>87.3198</td>\n",
       "      <td>2007</td>\n",
       "      <td>-1</td>\n",
       "      <td>1</td>\n",
       "      <td>0</td>\n",
       "    </tr>\n",
       "    <tr>\n",
       "      <th>2</th>\n",
       "      <td>14.600</td>\n",
       "      <td>0</td>\n",
       "      <td>0.099575</td>\n",
       "      <td>2</td>\n",
       "      <td>241.7538</td>\n",
       "      <td>1998</td>\n",
       "      <td>-1</td>\n",
       "      <td>2</td>\n",
       "      <td>1</td>\n",
       "    </tr>\n",
       "    <tr>\n",
       "      <th>3</th>\n",
       "      <td>7.315</td>\n",
       "      <td>0</td>\n",
       "      <td>0.015388</td>\n",
       "      <td>0</td>\n",
       "      <td>155.0340</td>\n",
       "      <td>2007</td>\n",
       "      <td>-1</td>\n",
       "      <td>1</td>\n",
       "      <td>0</td>\n",
       "    </tr>\n",
       "    <tr>\n",
       "      <th>4</th>\n",
       "      <td>7.315</td>\n",
       "      <td>2</td>\n",
       "      <td>0.118599</td>\n",
       "      <td>1</td>\n",
       "      <td>234.2300</td>\n",
       "      <td>1985</td>\n",
       "      <td>0</td>\n",
       "      <td>2</td>\n",
       "      <td>2</td>\n",
       "    </tr>\n",
       "  </tbody>\n",
       "</table>\n",
       "</div>"
      ],
      "text/plain": [
       "   Item_Weight  Item_Fat_Content  Item_Visibility  Item_Type  Item_MRP  \\\n",
       "0       20.750                 0         0.007565          0  107.8622   \n",
       "1        8.300                 1         0.038428          1   87.3198   \n",
       "2       14.600                 0         0.099575          2  241.7538   \n",
       "3        7.315                 0         0.015388          0  155.0340   \n",
       "4        7.315                 2         0.118599          1  234.2300   \n",
       "\n",
       "   Outlet_Establishment_Year  Outlet_Size  Outlet_Location_Type  Outlet_Type  \n",
       "0                       1999            0                     0            0  \n",
       "1                       2007           -1                     1            0  \n",
       "2                       1998           -1                     2            1  \n",
       "3                       2007           -1                     1            0  \n",
       "4                       1985            0                     2            2  "
      ]
     },
     "execution_count": 63,
     "metadata": {},
     "output_type": "execute_result"
    }
   ],
   "source": [
    "test_data['Item_Fat_Content']=pd.factorize(test_data.Item_Fat_Content)[0]\n",
    "test_data['Item_Type']=pd.factorize(test_data.Item_Type)[0]\n",
    "test_data['Item_Identifier']=pd.factorize(test_data.Item_Identifier)[0]\n",
    "test_data['Outlet_Identifier']=pd.factorize(test_data.Outlet_Identifier)[0]\n",
    "test_data['Outlet_Size']=pd.factorize(test_data.Outlet_Size)[0]\n",
    "test_data['Outlet_Location_Type']=pd.factorize(test_data.Outlet_Location_Type)[0]\n",
    "test_data['Outlet_Type']=pd.factorize(test_data.Outlet_Type)[0]\n",
    "\n",
    "\n",
    "test_data.loc[:,test_data.columns] = test_data.loc[:,test_data.columns].ffill()\n",
    "# get the number of missing data points per column\n",
    "missing_values_count = test_data.isnull().sum()\n",
    "\n",
    "# look at the # of missing points in the first ten columns\n",
    "#missing_values_count[0:10]\n",
    "\n",
    "print(missing_values_count)\n",
    "\n",
    "print('bigMart_data Shape',bigMart_data.shape)\n",
    "print('Orignal test_data shape', test_data.shape)\n",
    "\n",
    "#dropping some features\n",
    "test_data=test_data.drop(\"Item_Identifier\", axis='columns')\n",
    "test_data=test_data.drop(\"Outlet_Identifier\", axis='columns')\n",
    "#test_data=test_data.drop(\"Outlet_Establishment_Year\", axis='columns')\n",
    "#test_data=test_data.drop(\"Item_Visibility\", axis='columns')\n",
    "\n",
    "test_data.head()"
   ]
  },
  {
   "cell_type": "markdown",
   "id": "66c0310f",
   "metadata": {},
   "source": [
    "### Checking on Linear Regression"
   ]
  },
  {
   "cell_type": "code",
   "execution_count": 64,
   "id": "8f188c12",
   "metadata": {},
   "outputs": [
    {
     "name": "stdout",
     "output_type": "stream",
     "text": [
      "First 5 Training Prediction:\n",
      "[[1590.8896173 ]\n",
      " [1142.6019868 ]\n",
      " [2534.77381417]\n",
      " [3168.07003221]\n",
      " [3290.80048987]]\n",
      "First 5 Testing Prediction:\n",
      "[[1856.83936173]\n",
      " [1863.18603904]\n",
      " [4596.472357  ]\n",
      " [3001.8998958 ]\n",
      " [4432.86064093]]\n"
     ]
    }
   ],
   "source": [
    "#using the training dataset for the training\n",
    "pred_train=regressor.predict(xtrain)\n",
    "\n",
    "#using the training dataset for the prediction\n",
    "pred_test=regressor.predict(test_data)\n",
    "\n",
    "print('First 5 Training Prediction:') \n",
    "print(pred_train[0:5])\n",
    "\n",
    "print('First 5 Testing Prediction:')\n",
    "print(pred_test[0:5])"
   ]
  },
  {
   "cell_type": "markdown",
   "id": "f17cddf0",
   "metadata": {},
   "source": [
    "### Checking on Random Forest"
   ]
  },
  {
   "cell_type": "code",
   "execution_count": 65,
   "id": "a1efe329",
   "metadata": {},
   "outputs": [
    {
     "name": "stdout",
     "output_type": "stream",
     "text": [
      "First 5 Training Prediction:\n",
      "[ 171.736452 1578.252268 4056.699426 2720.605276 3597.6503  ]\n",
      "First 5 Testing Prediction:\n",
      "[1520.460828 1103.077466 4104.79016  2545.027158  526.228346]\n"
     ]
    }
   ],
   "source": [
    "pred_tr=forest_model.predict(xtrain)\n",
    "melb_preds = forest_model.predict(test_data)\n",
    "\n",
    "print('First 5 Training Prediction:') \n",
    "print(pred_tr[0:5])\n",
    "\n",
    "print('First 5 Testing Prediction:')\n",
    "print(melb_preds[0:5])"
   ]
  },
  {
   "cell_type": "markdown",
   "id": "48dd6378",
   "metadata": {},
   "source": [
    "### Checking on Ridge Regression"
   ]
  },
  {
   "cell_type": "code",
   "execution_count": 66,
   "id": "869f9966",
   "metadata": {},
   "outputs": [
    {
     "name": "stdout",
     "output_type": "stream",
     "text": [
      "First 5 Training Prediction:\n",
      "[[1590.9105037 ]\n",
      " [1142.58738091]\n",
      " [2534.76917097]\n",
      " [3168.08553371]\n",
      " [3290.80988078]]\n",
      "First 5 Testing Prediction:\n",
      "[[1856.82515208]\n",
      " [1863.18110677]\n",
      " [4596.48464515]\n",
      " [3001.88885828]\n",
      " [4432.87442881]]\n"
     ]
    }
   ],
   "source": [
    "y_train_r=ridge.predict(xtrain)\n",
    "y_test_r = ridge.predict(test_data)\n",
    "\n",
    "\n",
    "print('First 5 Training Prediction:') \n",
    "print(y_train_r[0:5])\n",
    "\n",
    "print('First 5 Testing Prediction:')\n",
    "print(y_test_r[0:5])"
   ]
  },
  {
   "cell_type": "markdown",
   "id": "0aa4b5c3",
   "metadata": {},
   "source": [
    "### Checking on Polynomial Feature"
   ]
  },
  {
   "cell_type": "code",
   "execution_count": 67,
   "id": "7da1f689",
   "metadata": {},
   "outputs": [
    {
     "name": "stdout",
     "output_type": "stream",
     "text": [
      "First 5 Training Prediction:\n",
      "[[ 127.88628249]\n",
      " [1451.02267142]\n",
      " [3162.67947539]\n",
      " [2801.59345062]\n",
      " [3019.51353538]]\n",
      "First 5 Testing Prediction:\n",
      "[[ 1.91063873e+03]\n",
      " [-1.39110212e+05]\n",
      " [ 2.44873555e+06]\n",
      " [-2.31209085e+05]\n",
      " [ 3.69459267e+06]]\n"
     ]
    }
   ],
   "source": [
    "y_train_predicted = poly_model.predict(xtrain_poly)\n",
    "\n",
    "xtest_poly=poly_features.fit_transform(test_data)\n",
    "y_test_predict = poly_model.predict(xtest_poly)\n",
    "\n",
    "\n",
    "print('First 5 Training Prediction:') \n",
    "print(y_train_predicted[0:5])\n",
    "\n",
    "print('First 5 Testing Prediction:')\n",
    "print(y_test_predict[0:5])"
   ]
  },
  {
   "cell_type": "markdown",
   "id": "b205d2d2",
   "metadata": {},
   "source": [
    "### Checking on XGBoost"
   ]
  },
  {
   "cell_type": "code",
   "execution_count": 68,
   "id": "9f25ee28",
   "metadata": {},
   "outputs": [
    {
     "name": "stdout",
     "output_type": "stream",
     "text": [
      "First 5 Training Prediction:\n",
      "[ 389.55606 1420.7844  4140.882   2519.5918  3564.8804 ]\n",
      "First 5 Testing Prediction:\n",
      "[1221.8379 1280.8519 3661.9553 2280.6162  645.8161]\n"
     ]
    }
   ],
   "source": [
    "train_x=xgb.predict(xtrain)\n",
    "test_x=xgb.predict(test_data)\n",
    "\n",
    "\n",
    "print('First 5 Training Prediction:') \n",
    "print(train_x[0:5])\n",
    "\n",
    "print('First 5 Testing Prediction:')\n",
    "print(test_x[0:5])"
   ]
  },
  {
   "cell_type": "markdown",
   "id": "172a33ae",
   "metadata": {},
   "source": [
    "### Checking on Gradient Boosting Regression (GBR)"
   ]
  },
  {
   "cell_type": "code",
   "execution_count": 69,
   "id": "874e1aa1",
   "metadata": {},
   "outputs": [
    {
     "name": "stdout",
     "output_type": "stream",
     "text": [
      "First 5 Training Prediction:\n",
      "[ 648.57261382 1613.8625998  3628.58827166 3432.94979812 3186.80871304]\n",
      "First 5 Testing Prediction:\n",
      "[1662.72991299 1359.12717427 3451.84736555 2646.45272127  707.90416828]\n"
     ]
    }
   ],
   "source": [
    "pred_train_gd=GD.predict(xtrain)\n",
    "pred_test_gd=GD.predict(test_data)\n",
    "\n",
    "print('First 5 Training Prediction:') \n",
    "print(pred_train_gd[0:5])\n",
    "\n",
    "print('First 5 Testing Prediction:')\n",
    "print(pred_test_gd[0:5])"
   ]
  },
  {
   "cell_type": "markdown",
   "id": "f58fb5b8",
   "metadata": {},
   "source": [
    "## Saving The Final Model\n",
    "Finding an accurate machine learning model is not the end of the project.\n",
    "In this following code, you will discover how to save and load your machine learning model in Python using scikit-learn.\n",
    "This allows you to save your model to file and load it later in order to make predictions."
   ]
  },
  {
   "cell_type": "markdown",
   "id": "36333b02",
   "metadata": {},
   "source": [
    "### Save Your Model with pickle\n",
    "Pickle is the standard way of serializing objects in Python.\n",
    "You can use the pickle operation to serialize your machine learning algorithms and save the serialized format to a file.\n",
    "Later you can load this file to deserialize your model and use it to make new predictions."
   ]
  },
  {
   "cell_type": "code",
   "execution_count": 70,
   "id": "e44e9e99",
   "metadata": {},
   "outputs": [],
   "source": [
    "import pickle\n",
    "# save the model to disk\n",
    "filename = 'finalized_model.sav'\n",
    "# in the following code, I am saving random forest model in a file named \"finalized_model.sav\"\n",
    "pickle.dump(forest_model, open(filename, 'wb'))"
   ]
  },
  {
   "cell_type": "markdown",
   "id": "b3913165",
   "metadata": {},
   "source": [
    "## Summary \n",
    "This project was my first unguided project, so it was great fighting with this. Learning new things and practically implemented them on real life problem as mentioned.\n",
    "Following are the things which I have done and learn from this project.\n",
    "* Understanding the problem statement\n",
    "* Exploring Dataset\n",
    "* Data Cleaning\n",
    "* Handling with outliers\n",
    "* Data visulization \n",
    "* Bivariate Anaysis\n",
    "* Converting Categorical To Numerical Data\n",
    "* Seperating Training and Test Data\n",
    "* Training Different Models\n",
    "* Predicting on Test Dataset\n",
    "* Saving the Final Model"
   ]
  },
  {
   "cell_type": "markdown",
   "id": "19da1aa8",
   "metadata": {},
   "source": [
    "## Future Work\n",
    "Following are some of the future work which can be done after this project.\n",
    "* Try to implement this data on other model and should see thier results\n",
    "* Try to clean this data in any better way\n",
    "* Can perfrom any other functions to the data which will give us better results\n",
    "\n",
    "As far as myself is concenrn, I have following future works for myself after this project\n",
    "* Try to understand datasets better\n",
    "* should use mysense is this data is making sense\n",
    "* Try to improve my theoratical knowldege about algorithms and models. "
   ]
  },
  {
   "cell_type": "markdown",
   "id": "7dba8011",
   "metadata": {},
   "source": [
    "__Kaleem Out !!!__"
   ]
  }
 ],
 "metadata": {
  "kernelspec": {
   "display_name": "Python 3 (ipykernel)",
   "language": "python",
   "name": "python3"
  },
  "language_info": {
   "codemirror_mode": {
    "name": "ipython",
    "version": 3
   },
   "file_extension": ".py",
   "mimetype": "text/x-python",
   "name": "python",
   "nbconvert_exporter": "python",
   "pygments_lexer": "ipython3",
   "version": "3.12.4"
  },
  "toc": {
   "base_numbering": 1,
   "nav_menu": {},
   "number_sections": true,
   "sideBar": true,
   "skip_h1_title": false,
   "title_cell": "Table of Contents",
   "title_sidebar": "Contents",
   "toc_cell": false,
   "toc_position": {
    "height": "calc(100% - 180px)",
    "left": "10px",
    "top": "150px",
    "width": "315.806px"
   },
   "toc_section_display": true,
   "toc_window_display": true
  }
 },
 "nbformat": 4,
 "nbformat_minor": 5
}
